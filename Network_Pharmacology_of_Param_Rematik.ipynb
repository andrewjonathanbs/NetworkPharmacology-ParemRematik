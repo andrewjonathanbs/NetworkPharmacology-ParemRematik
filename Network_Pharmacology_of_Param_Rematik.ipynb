{
  "nbformat": 4,
  "nbformat_minor": 0,
  "metadata": {
    "colab": {
      "provenance": [],
      "authorship_tag": "ABX9TyOIH5YrsDtLLiprR0EfW6kp",
      "include_colab_link": true
    },
    "kernelspec": {
      "name": "python3",
      "display_name": "Python 3"
    },
    "language_info": {
      "name": "python"
    }
  },
  "cells": [
    {
      "cell_type": "markdown",
      "metadata": {
        "id": "view-in-github",
        "colab_type": "text"
      },
      "source": [
        "<a href=\"https://colab.research.google.com/github/andrewjonathanbs/NetworkPharmacology-ParemRematik/blob/main/Network_Pharmacology_of_Param_Rematik.ipynb\" target=\"_parent\"><img src=\"https://colab.research.google.com/assets/colab-badge.svg\" alt=\"Open In Colab\"/></a>"
      ]
    },
    {
      "cell_type": "code",
      "execution_count": null,
      "metadata": {
        "colab": {
          "base_uri": "https://localhost:8080/"
        },
        "id": "W54rEb6agB-L",
        "outputId": "2586f71d-8cda-40e0-876d-f978bebec45d"
      },
      "outputs": [
        {
          "output_type": "stream",
          "name": "stdout",
          "text": [
            "Collecting rdkit\n",
            "  Downloading rdkit-2023.9.5-cp310-cp310-manylinux_2_17_x86_64.manylinux2014_x86_64.whl (34.4 MB)\n",
            "\u001b[2K     \u001b[90m━━━━━━━━━━━━━━━━━━━━━━━━━━━━━━━━━━━━━━━━\u001b[0m \u001b[32m34.4/34.4 MB\u001b[0m \u001b[31m16.5 MB/s\u001b[0m eta \u001b[36m0:00:00\u001b[0m\n",
            "\u001b[?25hRequirement already satisfied: numpy in /usr/local/lib/python3.10/dist-packages (from rdkit) (1.25.2)\n",
            "Requirement already satisfied: Pillow in /usr/local/lib/python3.10/dist-packages (from rdkit) (9.4.0)\n",
            "Installing collected packages: rdkit\n",
            "Successfully installed rdkit-2023.9.5\n",
            "Collecting pycaret\n",
            "  Downloading pycaret-3.3.0-py3-none-any.whl (485 kB)\n",
            "\u001b[2K     \u001b[90m━━━━━━━━━━━━━━━━━━━━━━━━━━━━━━━━━━━━━━━━\u001b[0m \u001b[32m485.9/485.9 kB\u001b[0m \u001b[31m7.1 MB/s\u001b[0m eta \u001b[36m0:00:00\u001b[0m\n",
            "\u001b[?25hRequirement already satisfied: ipython>=5.5.0 in /usr/local/lib/python3.10/dist-packages (from pycaret) (7.34.0)\n",
            "Requirement already satisfied: ipywidgets>=7.6.5 in /usr/local/lib/python3.10/dist-packages (from pycaret) (7.7.1)\n",
            "Requirement already satisfied: tqdm>=4.62.0 in /usr/local/lib/python3.10/dist-packages (from pycaret) (4.66.2)\n",
            "Requirement already satisfied: numpy<1.27,>=1.21 in /usr/local/lib/python3.10/dist-packages (from pycaret) (1.25.2)\n",
            "Requirement already satisfied: pandas<2.2.0 in /usr/local/lib/python3.10/dist-packages (from pycaret) (1.5.3)\n",
            "Requirement already satisfied: jinja2>=3 in /usr/local/lib/python3.10/dist-packages (from pycaret) (3.1.3)\n",
            "Requirement already satisfied: scipy<=1.11.4,>=1.6.1 in /usr/local/lib/python3.10/dist-packages (from pycaret) (1.11.4)\n",
            "Requirement already satisfied: joblib>=1.2.0 in /usr/local/lib/python3.10/dist-packages (from pycaret) (1.3.2)\n",
            "Collecting scikit-learn>1.4.0 (from pycaret)\n",
            "  Downloading scikit_learn-1.4.1.post1-cp310-cp310-manylinux_2_17_x86_64.manylinux2014_x86_64.whl (12.1 MB)\n",
            "\u001b[2K     \u001b[90m━━━━━━━━━━━━━━━━━━━━━━━━━━━━━━━━━━━━━━━━\u001b[0m \u001b[32m12.1/12.1 MB\u001b[0m \u001b[31m79.2 MB/s\u001b[0m eta \u001b[36m0:00:00\u001b[0m\n",
            "\u001b[?25hCollecting pyod>=1.1.3 (from pycaret)\n",
            "  Downloading pyod-1.1.3.tar.gz (160 kB)\n",
            "\u001b[2K     \u001b[90m━━━━━━━━━━━━━━━━━━━━━━━━━━━━━━━━━━━━━━━━\u001b[0m \u001b[32m160.5/160.5 kB\u001b[0m \u001b[31m23.5 MB/s\u001b[0m eta \u001b[36m0:00:00\u001b[0m\n",
            "\u001b[?25h  Preparing metadata (setup.py) ... \u001b[?25l\u001b[?25hdone\n",
            "Collecting imbalanced-learn>=0.12.0 (from pycaret)\n",
            "  Downloading imbalanced_learn-0.12.0-py3-none-any.whl (257 kB)\n",
            "\u001b[2K     \u001b[90m━━━━━━━━━━━━━━━━━━━━━━━━━━━━━━━━━━━━━━━━\u001b[0m \u001b[32m257.7/257.7 kB\u001b[0m \u001b[31m31.9 MB/s\u001b[0m eta \u001b[36m0:00:00\u001b[0m\n",
            "\u001b[?25hCollecting category-encoders>=2.4.0 (from pycaret)\n",
            "  Downloading category_encoders-2.6.3-py2.py3-none-any.whl (81 kB)\n",
            "\u001b[2K     \u001b[90m━━━━━━━━━━━━━━━━━━━━━━━━━━━━━━━━━━━━━━━━\u001b[0m \u001b[32m81.9/81.9 kB\u001b[0m \u001b[31m13.3 MB/s\u001b[0m eta \u001b[36m0:00:00\u001b[0m\n",
            "\u001b[?25hRequirement already satisfied: lightgbm>=3.0.0 in /usr/local/lib/python3.10/dist-packages (from pycaret) (4.1.0)\n",
            "Requirement already satisfied: numba>=0.55.0 in /usr/local/lib/python3.10/dist-packages (from pycaret) (0.58.1)\n",
            "Requirement already satisfied: requests>=2.27.1 in /usr/local/lib/python3.10/dist-packages (from pycaret) (2.31.0)\n",
            "Requirement already satisfied: psutil>=5.9.0 in /usr/local/lib/python3.10/dist-packages (from pycaret) (5.9.5)\n",
            "Requirement already satisfied: markupsafe>=2.0.1 in /usr/local/lib/python3.10/dist-packages (from pycaret) (2.1.5)\n",
            "Requirement already satisfied: importlib-metadata>=4.12.0 in /usr/local/lib/python3.10/dist-packages (from pycaret) (7.0.2)\n",
            "Requirement already satisfied: nbformat>=4.2.0 in /usr/local/lib/python3.10/dist-packages (from pycaret) (5.10.2)\n",
            "Requirement already satisfied: cloudpickle in /usr/local/lib/python3.10/dist-packages (from pycaret) (2.2.1)\n",
            "Collecting deprecation>=2.1.0 (from pycaret)\n",
            "  Downloading deprecation-2.1.0-py2.py3-none-any.whl (11 kB)\n",
            "Collecting xxhash (from pycaret)\n",
            "  Downloading xxhash-3.4.1-cp310-cp310-manylinux_2_17_x86_64.manylinux2014_x86_64.whl (194 kB)\n",
            "\u001b[2K     \u001b[90m━━━━━━━━━━━━━━━━━━━━━━━━━━━━━━━━━━━━━━━━\u001b[0m \u001b[32m194.1/194.1 kB\u001b[0m \u001b[31m30.3 MB/s\u001b[0m eta \u001b[36m0:00:00\u001b[0m\n",
            "\u001b[?25hRequirement already satisfied: matplotlib<3.8.0 in /usr/local/lib/python3.10/dist-packages (from pycaret) (3.7.1)\n",
            "Collecting scikit-plot>=0.3.7 (from pycaret)\n",
            "  Downloading scikit_plot-0.3.7-py3-none-any.whl (33 kB)\n",
            "Requirement already satisfied: yellowbrick>=1.4 in /usr/local/lib/python3.10/dist-packages (from pycaret) (1.5)\n",
            "Requirement already satisfied: plotly>=5.14.0 in /usr/local/lib/python3.10/dist-packages (from pycaret) (5.15.0)\n",
            "Collecting kaleido>=0.2.1 (from pycaret)\n",
            "  Downloading kaleido-0.2.1-py2.py3-none-manylinux1_x86_64.whl (79.9 MB)\n",
            "\u001b[2K     \u001b[90m━━━━━━━━━━━━━━━━━━━━━━━━━━━━━━━━━━━━━━━━\u001b[0m \u001b[32m79.9/79.9 MB\u001b[0m \u001b[31m9.9 MB/s\u001b[0m eta \u001b[36m0:00:00\u001b[0m\n",
            "\u001b[?25hCollecting schemdraw==0.15 (from pycaret)\n",
            "  Downloading schemdraw-0.15-py3-none-any.whl (106 kB)\n",
            "\u001b[2K     \u001b[90m━━━━━━━━━━━━━━━━━━━━━━━━━━━━━━━━━━━━━━━━\u001b[0m \u001b[32m106.8/106.8 kB\u001b[0m \u001b[31m16.9 MB/s\u001b[0m eta \u001b[36m0:00:00\u001b[0m\n",
            "\u001b[?25hCollecting plotly-resampler>=0.8.3.1 (from pycaret)\n",
            "  Downloading plotly_resampler-0.9.2-py3-none-any.whl (81 kB)\n",
            "\u001b[2K     \u001b[90m━━━━━━━━━━━━━━━━━━━━━━━━━━━━━━━━━━━━━━━━\u001b[0m \u001b[32m81.1/81.1 kB\u001b[0m \u001b[31m13.1 MB/s\u001b[0m eta \u001b[36m0:00:00\u001b[0m\n",
            "\u001b[?25hRequirement already satisfied: statsmodels>=0.12.1 in /usr/local/lib/python3.10/dist-packages (from pycaret) (0.14.1)\n",
            "Collecting sktime>=0.26.0 (from pycaret)\n",
            "  Downloading sktime-0.27.0-py3-none-any.whl (21.9 MB)\n",
            "\u001b[2K     \u001b[90m━━━━━━━━━━━━━━━━━━━━━━━━━━━━━━━━━━━━━━━━\u001b[0m \u001b[32m21.9/21.9 MB\u001b[0m \u001b[31m56.4 MB/s\u001b[0m eta \u001b[36m0:00:00\u001b[0m\n",
            "\u001b[?25hCollecting tbats>=1.1.3 (from pycaret)\n",
            "  Downloading tbats-1.1.3-py3-none-any.whl (44 kB)\n",
            "\u001b[2K     \u001b[90m━━━━━━━━━━━━━━━━━━━━━━━━━━━━━━━━━━━━━━━━\u001b[0m \u001b[32m44.0/44.0 kB\u001b[0m \u001b[31m6.9 MB/s\u001b[0m eta \u001b[36m0:00:00\u001b[0m\n",
            "\u001b[?25hCollecting pmdarima>=2.0.4 (from pycaret)\n",
            "  Downloading pmdarima-2.0.4-cp310-cp310-manylinux_2_17_x86_64.manylinux2014_x86_64.manylinux_2_28_x86_64.whl (2.1 MB)\n",
            "\u001b[2K     \u001b[90m━━━━━━━━━━━━━━━━━━━━━━━━━━━━━━━━━━━━━━━━\u001b[0m \u001b[32m2.1/2.1 MB\u001b[0m \u001b[31m54.9 MB/s\u001b[0m eta \u001b[36m0:00:00\u001b[0m\n",
            "\u001b[?25hCollecting wurlitzer (from pycaret)\n",
            "  Downloading wurlitzer-3.0.3-py3-none-any.whl (7.3 kB)\n",
            "Requirement already satisfied: patsy>=0.5.1 in /usr/local/lib/python3.10/dist-packages (from category-encoders>=2.4.0->pycaret) (0.5.6)\n",
            "Requirement already satisfied: packaging in /usr/local/lib/python3.10/dist-packages (from deprecation>=2.1.0->pycaret) (24.0)\n",
            "Requirement already satisfied: threadpoolctl>=2.0.0 in /usr/local/lib/python3.10/dist-packages (from imbalanced-learn>=0.12.0->pycaret) (3.3.0)\n",
            "Requirement already satisfied: zipp>=0.5 in /usr/local/lib/python3.10/dist-packages (from importlib-metadata>=4.12.0->pycaret) (3.18.0)\n",
            "Requirement already satisfied: setuptools>=18.5 in /usr/local/lib/python3.10/dist-packages (from ipython>=5.5.0->pycaret) (67.7.2)\n",
            "Collecting jedi>=0.16 (from ipython>=5.5.0->pycaret)\n",
            "  Downloading jedi-0.19.1-py2.py3-none-any.whl (1.6 MB)\n",
            "\u001b[2K     \u001b[90m━━━━━━━━━━━━━━━━━━━━━━━━━━━━━━━━━━━━━━━━\u001b[0m \u001b[32m1.6/1.6 MB\u001b[0m \u001b[31m64.6 MB/s\u001b[0m eta \u001b[36m0:00:00\u001b[0m\n",
            "\u001b[?25hRequirement already satisfied: decorator in /usr/local/lib/python3.10/dist-packages (from ipython>=5.5.0->pycaret) (4.4.2)\n",
            "Requirement already satisfied: pickleshare in /usr/local/lib/python3.10/dist-packages (from ipython>=5.5.0->pycaret) (0.7.5)\n",
            "Requirement already satisfied: traitlets>=4.2 in /usr/local/lib/python3.10/dist-packages (from ipython>=5.5.0->pycaret) (5.7.1)\n",
            "Requirement already satisfied: prompt-toolkit!=3.0.0,!=3.0.1,<3.1.0,>=2.0.0 in /usr/local/lib/python3.10/dist-packages (from ipython>=5.5.0->pycaret) (3.0.43)\n",
            "Requirement already satisfied: pygments in /usr/local/lib/python3.10/dist-packages (from ipython>=5.5.0->pycaret) (2.16.1)\n",
            "Requirement already satisfied: backcall in /usr/local/lib/python3.10/dist-packages (from ipython>=5.5.0->pycaret) (0.2.0)\n",
            "Requirement already satisfied: matplotlib-inline in /usr/local/lib/python3.10/dist-packages (from ipython>=5.5.0->pycaret) (0.1.6)\n",
            "Requirement already satisfied: pexpect>4.3 in /usr/local/lib/python3.10/dist-packages (from ipython>=5.5.0->pycaret) (4.9.0)\n",
            "Requirement already satisfied: ipykernel>=4.5.1 in /usr/local/lib/python3.10/dist-packages (from ipywidgets>=7.6.5->pycaret) (5.5.6)\n",
            "Requirement already satisfied: ipython-genutils~=0.2.0 in /usr/local/lib/python3.10/dist-packages (from ipywidgets>=7.6.5->pycaret) (0.2.0)\n",
            "Requirement already satisfied: widgetsnbextension~=3.6.0 in /usr/local/lib/python3.10/dist-packages (from ipywidgets>=7.6.5->pycaret) (3.6.6)\n",
            "Requirement already satisfied: jupyterlab-widgets>=1.0.0 in /usr/local/lib/python3.10/dist-packages (from ipywidgets>=7.6.5->pycaret) (3.0.10)\n",
            "Requirement already satisfied: contourpy>=1.0.1 in /usr/local/lib/python3.10/dist-packages (from matplotlib<3.8.0->pycaret) (1.2.0)\n",
            "Requirement already satisfied: cycler>=0.10 in /usr/local/lib/python3.10/dist-packages (from matplotlib<3.8.0->pycaret) (0.12.1)\n",
            "Requirement already satisfied: fonttools>=4.22.0 in /usr/local/lib/python3.10/dist-packages (from matplotlib<3.8.0->pycaret) (4.49.0)\n",
            "Requirement already satisfied: kiwisolver>=1.0.1 in /usr/local/lib/python3.10/dist-packages (from matplotlib<3.8.0->pycaret) (1.4.5)\n",
            "Requirement already satisfied: pillow>=6.2.0 in /usr/local/lib/python3.10/dist-packages (from matplotlib<3.8.0->pycaret) (9.4.0)\n",
            "Requirement already satisfied: pyparsing>=2.3.1 in /usr/local/lib/python3.10/dist-packages (from matplotlib<3.8.0->pycaret) (3.1.2)\n",
            "Requirement already satisfied: python-dateutil>=2.7 in /usr/local/lib/python3.10/dist-packages (from matplotlib<3.8.0->pycaret) (2.8.2)\n",
            "Requirement already satisfied: fastjsonschema in /usr/local/lib/python3.10/dist-packages (from nbformat>=4.2.0->pycaret) (2.19.1)\n",
            "Requirement already satisfied: jsonschema>=2.6 in /usr/local/lib/python3.10/dist-packages (from nbformat>=4.2.0->pycaret) (4.19.2)\n",
            "Requirement already satisfied: jupyter-core in /usr/local/lib/python3.10/dist-packages (from nbformat>=4.2.0->pycaret) (5.7.2)\n",
            "Requirement already satisfied: llvmlite<0.42,>=0.41.0dev0 in /usr/local/lib/python3.10/dist-packages (from numba>=0.55.0->pycaret) (0.41.1)\n",
            "Requirement already satisfied: pytz>=2020.1 in /usr/local/lib/python3.10/dist-packages (from pandas<2.2.0->pycaret) (2023.4)\n",
            "Requirement already satisfied: tenacity>=6.2.0 in /usr/local/lib/python3.10/dist-packages (from plotly>=5.14.0->pycaret) (8.2.3)\n",
            "Collecting dash>=2.9.0 (from plotly-resampler>=0.8.3.1->pycaret)\n",
            "  Downloading dash-2.16.1-py3-none-any.whl (10.2 MB)\n",
            "\u001b[2K     \u001b[90m━━━━━━━━━━━━━━━━━━━━━━━━━━━━━━━━━━━━━━━━\u001b[0m \u001b[32m10.2/10.2 MB\u001b[0m \u001b[31m65.5 MB/s\u001b[0m eta \u001b[36m0:00:00\u001b[0m\n",
            "\u001b[?25hCollecting orjson<4.0.0,>=3.8.0 (from plotly-resampler>=0.8.3.1->pycaret)\n",
            "  Downloading orjson-3.9.15-cp310-cp310-manylinux_2_17_x86_64.manylinux2014_x86_64.whl (138 kB)\n",
            "\u001b[2K     \u001b[90m━━━━━━━━━━━━━━━━━━━━━━━━━━━━━━━━━━━━━━━━\u001b[0m \u001b[32m138.5/138.5 kB\u001b[0m \u001b[31m19.6 MB/s\u001b[0m eta \u001b[36m0:00:00\u001b[0m\n",
            "\u001b[?25hCollecting tsdownsample==0.1.2 (from plotly-resampler>=0.8.3.1->pycaret)\n",
            "  Downloading tsdownsample-0.1.2-cp310-cp310-manylinux_2_17_x86_64.manylinux2014_x86_64.whl (2.3 MB)\n",
            "\u001b[2K     \u001b[90m━━━━━━━━━━━━━━━━━━━━━━━━━━━━━━━━━━━━━━━━\u001b[0m \u001b[32m2.3/2.3 MB\u001b[0m \u001b[31m92.4 MB/s\u001b[0m eta \u001b[36m0:00:00\u001b[0m\n",
            "\u001b[?25hRequirement already satisfied: Cython!=0.29.18,!=0.29.31,>=0.29 in /usr/local/lib/python3.10/dist-packages (from pmdarima>=2.0.4->pycaret) (3.0.9)\n",
            "Requirement already satisfied: urllib3 in /usr/local/lib/python3.10/dist-packages (from pmdarima>=2.0.4->pycaret) (2.0.7)\n",
            "Requirement already satisfied: six in /usr/local/lib/python3.10/dist-packages (from pyod>=1.1.3->pycaret) (1.16.0)\n",
            "Requirement already satisfied: charset-normalizer<4,>=2 in /usr/local/lib/python3.10/dist-packages (from requests>=2.27.1->pycaret) (3.3.2)\n",
            "Requirement already satisfied: idna<4,>=2.5 in /usr/local/lib/python3.10/dist-packages (from requests>=2.27.1->pycaret) (3.6)\n",
            "Requirement already satisfied: certifi>=2017.4.17 in /usr/local/lib/python3.10/dist-packages (from requests>=2.27.1->pycaret) (2024.2.2)\n",
            "Collecting scikit-base<0.8.0 (from sktime>=0.26.0->pycaret)\n",
            "  Downloading scikit_base-0.7.5-py3-none-any.whl (128 kB)\n",
            "\u001b[2K     \u001b[90m━━━━━━━━━━━━━━━━━━━━━━━━━━━━━━━━━━━━━━━━\u001b[0m \u001b[32m128.8/128.8 kB\u001b[0m \u001b[31m19.8 MB/s\u001b[0m eta \u001b[36m0:00:00\u001b[0m\n",
            "\u001b[?25hRequirement already satisfied: Flask<3.1,>=1.0.4 in /usr/local/lib/python3.10/dist-packages (from dash>=2.9.0->plotly-resampler>=0.8.3.1->pycaret) (2.2.5)\n",
            "Requirement already satisfied: Werkzeug<3.1 in /usr/local/lib/python3.10/dist-packages (from dash>=2.9.0->plotly-resampler>=0.8.3.1->pycaret) (3.0.1)\n",
            "Collecting dash-html-components==2.0.0 (from dash>=2.9.0->plotly-resampler>=0.8.3.1->pycaret)\n",
            "  Downloading dash_html_components-2.0.0-py3-none-any.whl (4.1 kB)\n",
            "Collecting dash-core-components==2.0.0 (from dash>=2.9.0->plotly-resampler>=0.8.3.1->pycaret)\n",
            "  Downloading dash_core_components-2.0.0-py3-none-any.whl (3.8 kB)\n",
            "Collecting dash-table==5.0.0 (from dash>=2.9.0->plotly-resampler>=0.8.3.1->pycaret)\n",
            "  Downloading dash_table-5.0.0-py3-none-any.whl (3.9 kB)\n",
            "Requirement already satisfied: typing-extensions>=4.1.1 in /usr/local/lib/python3.10/dist-packages (from dash>=2.9.0->plotly-resampler>=0.8.3.1->pycaret) (4.10.0)\n",
            "Collecting retrying (from dash>=2.9.0->plotly-resampler>=0.8.3.1->pycaret)\n",
            "  Downloading retrying-1.3.4-py3-none-any.whl (11 kB)\n",
            "Requirement already satisfied: nest-asyncio in /usr/local/lib/python3.10/dist-packages (from dash>=2.9.0->plotly-resampler>=0.8.3.1->pycaret) (1.6.0)\n",
            "Requirement already satisfied: jupyter-client in /usr/local/lib/python3.10/dist-packages (from ipykernel>=4.5.1->ipywidgets>=7.6.5->pycaret) (6.1.12)\n",
            "Requirement already satisfied: tornado>=4.2 in /usr/local/lib/python3.10/dist-packages (from ipykernel>=4.5.1->ipywidgets>=7.6.5->pycaret) (6.3.3)\n",
            "Requirement already satisfied: parso<0.9.0,>=0.8.3 in /usr/local/lib/python3.10/dist-packages (from jedi>=0.16->ipython>=5.5.0->pycaret) (0.8.3)\n",
            "Requirement already satisfied: attrs>=22.2.0 in /usr/local/lib/python3.10/dist-packages (from jsonschema>=2.6->nbformat>=4.2.0->pycaret) (23.2.0)\n",
            "Requirement already satisfied: jsonschema-specifications>=2023.03.6 in /usr/local/lib/python3.10/dist-packages (from jsonschema>=2.6->nbformat>=4.2.0->pycaret) (2023.12.1)\n",
            "Requirement already satisfied: referencing>=0.28.4 in /usr/local/lib/python3.10/dist-packages (from jsonschema>=2.6->nbformat>=4.2.0->pycaret) (0.33.0)\n",
            "Requirement already satisfied: rpds-py>=0.7.1 in /usr/local/lib/python3.10/dist-packages (from jsonschema>=2.6->nbformat>=4.2.0->pycaret) (0.18.0)\n",
            "Requirement already satisfied: ptyprocess>=0.5 in /usr/local/lib/python3.10/dist-packages (from pexpect>4.3->ipython>=5.5.0->pycaret) (0.7.0)\n",
            "Requirement already satisfied: wcwidth in /usr/local/lib/python3.10/dist-packages (from prompt-toolkit!=3.0.0,!=3.0.1,<3.1.0,>=2.0.0->ipython>=5.5.0->pycaret) (0.2.13)\n",
            "Requirement already satisfied: notebook>=4.4.1 in /usr/local/lib/python3.10/dist-packages (from widgetsnbextension~=3.6.0->ipywidgets>=7.6.5->pycaret) (6.5.5)\n",
            "Requirement already satisfied: platformdirs>=2.5 in /usr/local/lib/python3.10/dist-packages (from jupyter-core->nbformat>=4.2.0->pycaret) (4.2.0)\n",
            "Requirement already satisfied: itsdangerous>=2.0 in /usr/local/lib/python3.10/dist-packages (from Flask<3.1,>=1.0.4->dash>=2.9.0->plotly-resampler>=0.8.3.1->pycaret) (2.1.2)\n",
            "Requirement already satisfied: click>=8.0 in /usr/local/lib/python3.10/dist-packages (from Flask<3.1,>=1.0.4->dash>=2.9.0->plotly-resampler>=0.8.3.1->pycaret) (8.1.7)\n",
            "Requirement already satisfied: pyzmq<25,>=17 in /usr/local/lib/python3.10/dist-packages (from notebook>=4.4.1->widgetsnbextension~=3.6.0->ipywidgets>=7.6.5->pycaret) (23.2.1)\n",
            "Requirement already satisfied: argon2-cffi in /usr/local/lib/python3.10/dist-packages (from notebook>=4.4.1->widgetsnbextension~=3.6.0->ipywidgets>=7.6.5->pycaret) (23.1.0)\n",
            "Requirement already satisfied: nbconvert>=5 in /usr/local/lib/python3.10/dist-packages (from notebook>=4.4.1->widgetsnbextension~=3.6.0->ipywidgets>=7.6.5->pycaret) (6.5.4)\n",
            "Requirement already satisfied: Send2Trash>=1.8.0 in /usr/local/lib/python3.10/dist-packages (from notebook>=4.4.1->widgetsnbextension~=3.6.0->ipywidgets>=7.6.5->pycaret) (1.8.2)\n",
            "Requirement already satisfied: terminado>=0.8.3 in /usr/local/lib/python3.10/dist-packages (from notebook>=4.4.1->widgetsnbextension~=3.6.0->ipywidgets>=7.6.5->pycaret) (0.18.1)\n",
            "Requirement already satisfied: prometheus-client in /usr/local/lib/python3.10/dist-packages (from notebook>=4.4.1->widgetsnbextension~=3.6.0->ipywidgets>=7.6.5->pycaret) (0.20.0)\n",
            "Requirement already satisfied: nbclassic>=0.4.7 in /usr/local/lib/python3.10/dist-packages (from notebook>=4.4.1->widgetsnbextension~=3.6.0->ipywidgets>=7.6.5->pycaret) (1.0.0)\n",
            "Requirement already satisfied: jupyter-server>=1.8 in /usr/local/lib/python3.10/dist-packages (from nbclassic>=0.4.7->notebook>=4.4.1->widgetsnbextension~=3.6.0->ipywidgets>=7.6.5->pycaret) (1.24.0)\n",
            "Requirement already satisfied: notebook-shim>=0.2.3 in /usr/local/lib/python3.10/dist-packages (from nbclassic>=0.4.7->notebook>=4.4.1->widgetsnbextension~=3.6.0->ipywidgets>=7.6.5->pycaret) (0.2.4)\n",
            "Requirement already satisfied: lxml in /usr/local/lib/python3.10/dist-packages (from nbconvert>=5->notebook>=4.4.1->widgetsnbextension~=3.6.0->ipywidgets>=7.6.5->pycaret) (4.9.4)\n",
            "Requirement already satisfied: beautifulsoup4 in /usr/local/lib/python3.10/dist-packages (from nbconvert>=5->notebook>=4.4.1->widgetsnbextension~=3.6.0->ipywidgets>=7.6.5->pycaret) (4.12.3)\n",
            "Requirement already satisfied: bleach in /usr/local/lib/python3.10/dist-packages (from nbconvert>=5->notebook>=4.4.1->widgetsnbextension~=3.6.0->ipywidgets>=7.6.5->pycaret) (6.1.0)\n",
            "Requirement already satisfied: defusedxml in /usr/local/lib/python3.10/dist-packages (from nbconvert>=5->notebook>=4.4.1->widgetsnbextension~=3.6.0->ipywidgets>=7.6.5->pycaret) (0.7.1)\n",
            "Requirement already satisfied: entrypoints>=0.2.2 in /usr/local/lib/python3.10/dist-packages (from nbconvert>=5->notebook>=4.4.1->widgetsnbextension~=3.6.0->ipywidgets>=7.6.5->pycaret) (0.4)\n",
            "Requirement already satisfied: jupyterlab-pygments in /usr/local/lib/python3.10/dist-packages (from nbconvert>=5->notebook>=4.4.1->widgetsnbextension~=3.6.0->ipywidgets>=7.6.5->pycaret) (0.3.0)\n",
            "Requirement already satisfied: mistune<2,>=0.8.1 in /usr/local/lib/python3.10/dist-packages (from nbconvert>=5->notebook>=4.4.1->widgetsnbextension~=3.6.0->ipywidgets>=7.6.5->pycaret) (0.8.4)\n",
            "Requirement already satisfied: nbclient>=0.5.0 in /usr/local/lib/python3.10/dist-packages (from nbconvert>=5->notebook>=4.4.1->widgetsnbextension~=3.6.0->ipywidgets>=7.6.5->pycaret) (0.10.0)\n",
            "Requirement already satisfied: pandocfilters>=1.4.1 in /usr/local/lib/python3.10/dist-packages (from nbconvert>=5->notebook>=4.4.1->widgetsnbextension~=3.6.0->ipywidgets>=7.6.5->pycaret) (1.5.1)\n",
            "Requirement already satisfied: tinycss2 in /usr/local/lib/python3.10/dist-packages (from nbconvert>=5->notebook>=4.4.1->widgetsnbextension~=3.6.0->ipywidgets>=7.6.5->pycaret) (1.2.1)\n",
            "Requirement already satisfied: argon2-cffi-bindings in /usr/local/lib/python3.10/dist-packages (from argon2-cffi->notebook>=4.4.1->widgetsnbextension~=3.6.0->ipywidgets>=7.6.5->pycaret) (21.2.0)\n",
            "Requirement already satisfied: anyio<4,>=3.1.0 in /usr/local/lib/python3.10/dist-packages (from jupyter-server>=1.8->nbclassic>=0.4.7->notebook>=4.4.1->widgetsnbextension~=3.6.0->ipywidgets>=7.6.5->pycaret) (3.7.1)\n",
            "Requirement already satisfied: websocket-client in /usr/local/lib/python3.10/dist-packages (from jupyter-server>=1.8->nbclassic>=0.4.7->notebook>=4.4.1->widgetsnbextension~=3.6.0->ipywidgets>=7.6.5->pycaret) (1.7.0)\n",
            "Requirement already satisfied: cffi>=1.0.1 in /usr/local/lib/python3.10/dist-packages (from argon2-cffi-bindings->argon2-cffi->notebook>=4.4.1->widgetsnbextension~=3.6.0->ipywidgets>=7.6.5->pycaret) (1.16.0)\n",
            "Requirement already satisfied: soupsieve>1.2 in /usr/local/lib/python3.10/dist-packages (from beautifulsoup4->nbconvert>=5->notebook>=4.4.1->widgetsnbextension~=3.6.0->ipywidgets>=7.6.5->pycaret) (2.5)\n",
            "Requirement already satisfied: webencodings in /usr/local/lib/python3.10/dist-packages (from bleach->nbconvert>=5->notebook>=4.4.1->widgetsnbextension~=3.6.0->ipywidgets>=7.6.5->pycaret) (0.5.1)\n",
            "Requirement already satisfied: sniffio>=1.1 in /usr/local/lib/python3.10/dist-packages (from anyio<4,>=3.1.0->jupyter-server>=1.8->nbclassic>=0.4.7->notebook>=4.4.1->widgetsnbextension~=3.6.0->ipywidgets>=7.6.5->pycaret) (1.3.1)\n",
            "Requirement already satisfied: exceptiongroup in /usr/local/lib/python3.10/dist-packages (from anyio<4,>=3.1.0->jupyter-server>=1.8->nbclassic>=0.4.7->notebook>=4.4.1->widgetsnbextension~=3.6.0->ipywidgets>=7.6.5->pycaret) (1.2.0)\n",
            "Requirement already satisfied: pycparser in /usr/local/lib/python3.10/dist-packages (from cffi>=1.0.1->argon2-cffi-bindings->argon2-cffi->notebook>=4.4.1->widgetsnbextension~=3.6.0->ipywidgets>=7.6.5->pycaret) (2.21)\n",
            "Building wheels for collected packages: pyod\n",
            "  Building wheel for pyod (setup.py) ... \u001b[?25l\u001b[?25hdone\n",
            "  Created wheel for pyod: filename=pyod-1.1.3-py3-none-any.whl size=190250 sha256=22075e4a3c33427ae0d1552ffb2113484e3be607745c26ebe0f90908cab1d97d\n",
            "  Stored in directory: /root/.cache/pip/wheels/05/f8/db/124d43bec122d6ec0ab3713fadfe25ebed8af52ec561682b4e\n",
            "Successfully built pyod\n",
            "Installing collected packages: kaleido, dash-table, dash-html-components, dash-core-components, xxhash, wurlitzer, tsdownsample, scikit-base, schemdraw, retrying, orjson, jedi, deprecation, scikit-learn, sktime, scikit-plot, pyod, imbalanced-learn, dash, pmdarima, plotly-resampler, category-encoders, tbats, pycaret\n",
            "  Attempting uninstall: scikit-learn\n",
            "    Found existing installation: scikit-learn 1.2.2\n",
            "    Uninstalling scikit-learn-1.2.2:\n",
            "      Successfully uninstalled scikit-learn-1.2.2\n",
            "  Attempting uninstall: imbalanced-learn\n",
            "    Found existing installation: imbalanced-learn 0.10.1\n",
            "    Uninstalling imbalanced-learn-0.10.1:\n",
            "      Successfully uninstalled imbalanced-learn-0.10.1\n",
            "Successfully installed category-encoders-2.6.3 dash-2.16.1 dash-core-components-2.0.0 dash-html-components-2.0.0 dash-table-5.0.0 deprecation-2.1.0 imbalanced-learn-0.12.0 jedi-0.19.1 kaleido-0.2.1 orjson-3.9.15 plotly-resampler-0.9.2 pmdarima-2.0.4 pycaret-3.3.0 pyod-1.1.3 retrying-1.3.4 schemdraw-0.15 scikit-base-0.7.5 scikit-learn-1.4.1.post1 scikit-plot-0.3.7 sktime-0.27.0 tbats-1.1.3 tsdownsample-0.1.2 wurlitzer-3.0.3 xxhash-3.4.1\n",
            "Collecting pubchempy\n",
            "  Downloading PubChemPy-1.0.4.tar.gz (29 kB)\n",
            "  Preparing metadata (setup.py) ... \u001b[?25l\u001b[?25hdone\n",
            "Building wheels for collected packages: pubchempy\n",
            "  Building wheel for pubchempy (setup.py) ... \u001b[?25l\u001b[?25hdone\n",
            "  Created wheel for pubchempy: filename=PubChemPy-1.0.4-py3-none-any.whl size=13820 sha256=24ca738295ac0df4ee0866e95e47bf6314b9df95ff7c107f1573e343bb9fca8c\n",
            "  Stored in directory: /root/.cache/pip/wheels/90/7c/45/18a0671e3c3316966ef7ed9ad2b3f3300a7e41d3421a44e799\n",
            "Successfully built pubchempy\n",
            "Installing collected packages: pubchempy\n",
            "Successfully installed pubchempy-1.0.4\n"
          ]
        }
      ],
      "source": [
        "!pip install rdkit\n",
        "!pip install pycaret\n",
        "!pip install pubchempy"
      ]
    },
    {
      "cell_type": "code",
      "source": [
        "from google.colab import drive\n",
        "drive.mount('/content/drive/')"
      ],
      "metadata": {
        "colab": {
          "base_uri": "https://localhost:8080/"
        },
        "id": "mywC0iRzw1q7",
        "outputId": "c54bac16-4fbc-495a-c63a-b9d1cb5a2565"
      },
      "execution_count": null,
      "outputs": [
        {
          "output_type": "stream",
          "name": "stdout",
          "text": [
            "Mounted at /content/drive/\n"
          ]
        }
      ]
    },
    {
      "cell_type": "code",
      "source": [
        "import pandas as pd\n",
        "import numpy as np\n",
        "from rdkit.Chem import AllChem\n",
        "from rdkit import Chem\n",
        "from rdkit.Chem import Descriptors\n",
        "from rdkit.ML.Descriptors import MoleculeDescriptors\n",
        "from sklearn.preprocessing import StandardScaler\n",
        "from rdkit.Chem import AllChem\n",
        "from rdkit import Chem\n",
        "from rdkit.Chem import Descriptors\n",
        "from rdkit.ML.Descriptors import MoleculeDescriptors\n",
        "from rdkit.Chem.MolStandardize import rdMolStandardize\n",
        "from rdkit.Chem.SaltRemover import SaltRemover\n",
        "st = StandardScaler()\n",
        "import matplotlib.pyplot as plt\n",
        "import pubchempy as pcp\n",
        "import seaborn as sns\n",
        "import time\n",
        "from rdkit.Chem import Crippen, rdMolDescriptors, Lipinski\n",
        "from pubchempy import get_compounds, Compound"
      ],
      "metadata": {
        "id": "0fDf2ryowrDU"
      },
      "execution_count": null,
      "outputs": []
    },
    {
      "cell_type": "code",
      "source": [
        "import csv\n",
        "\n",
        "# Path to your input and output files\n",
        "input_file = '/content/drive/MyDrive/Network Pharmacology of Tawar/DrugBank.txt'\n",
        "output_file = '/content/drive/MyDrive/Network Pharmacology of Tawar/output.csv'\n",
        "\n",
        "# Open input and output files\n",
        "with open(input_file, 'r') as txt_file, open(output_file, 'w', newline='') as csv_file:\n",
        "    # Define a CSV writer\n",
        "    csv_writer = csv.writer(csv_file)\n",
        "\n",
        "    # Read each line from the TXT file\n",
        "    for line in txt_file:\n",
        "        # Split the line by spaces\n",
        "        data = line.strip().split()\n",
        "\n",
        "        # Write the split data into the CSV file\n",
        "        csv_writer.writerow(data)\n",
        "\n",
        "print(\"Conversion completed successfully.\")"
      ],
      "metadata": {
        "colab": {
          "base_uri": "https://localhost:8080/"
        },
        "id": "paqwQHiVuBq3",
        "outputId": "1b05d11e-8df6-43da-de93-2cbd0e9d8d1a"
      },
      "execution_count": null,
      "outputs": [
        {
          "output_type": "stream",
          "name": "stdout",
          "text": [
            "Conversion completed successfully.\n"
          ]
        }
      ]
    },
    {
      "cell_type": "code",
      "source": [
        "df_drug = pd.read_csv('/content/drive/MyDrive/Network Pharmacology of Tawar/output.csv')\n",
        "df_drug.head()"
      ],
      "metadata": {
        "colab": {
          "base_uri": "https://localhost:8080/",
          "height": 206
        },
        "id": "mOJnon1lvMVP",
        "outputId": "551f51f6-28f5-4661-bf58-29e46cfd3465"
      },
      "execution_count": null,
      "outputs": [
        {
          "output_type": "execute_result",
          "data": {
            "text/plain": [
              "        ID   CHECK                                             SMILES  \\\n",
              "0  DB00303  P45059  [H][C@]12[C@@H](C)C(S[C@]3([H])CN[C@@]([H])(C3...   \n",
              "1  DB00114  P19113                    CC1=NC=C(COP(O)(O)=O)C(C=O)=C1O   \n",
              "2  DB00117  P19113                          N[C@@H](CC1=CNC=N1)C(O)=O   \n",
              "3  DB00142  Q9UI32                            N[C@@H](CCC(O)=O)C(O)=O   \n",
              "4  DB01839  P00488                                            CC(O)CO   \n",
              "\n",
              "                                                ANEH  GU  \n",
              "0  MVKFNSSRKSGKSKKTIRKLTAPETVKQNKPQKVFEKCFMRGRYML...   1  \n",
              "1  MMEPEEYRERGREMVDYICQYLSTVRERRVTPDVQPGYLRAQLPES...   1  \n",
              "2  MMEPEEYRERGREMVDYICQYLSTVRERRVTPDVQPGYLRAQLPES...   1  \n",
              "3  MRSMKALQKALSRAGSHCGRGGWGHPSRSPLLGGGVRHHLSEAAAQ...   1  \n",
              "4  MSETSRTAFGGRRAVPPNNSNAAEDDLPTVELQGVVPRGVNLQEFL...   1  "
            ],
            "text/html": [
              "\n",
              "  <div id=\"df-119df7db-8819-4b87-be35-34b36a95f177\" class=\"colab-df-container\">\n",
              "    <div>\n",
              "<style scoped>\n",
              "    .dataframe tbody tr th:only-of-type {\n",
              "        vertical-align: middle;\n",
              "    }\n",
              "\n",
              "    .dataframe tbody tr th {\n",
              "        vertical-align: top;\n",
              "    }\n",
              "\n",
              "    .dataframe thead th {\n",
              "        text-align: right;\n",
              "    }\n",
              "</style>\n",
              "<table border=\"1\" class=\"dataframe\">\n",
              "  <thead>\n",
              "    <tr style=\"text-align: right;\">\n",
              "      <th></th>\n",
              "      <th>ID</th>\n",
              "      <th>CHECK</th>\n",
              "      <th>SMILES</th>\n",
              "      <th>ANEH</th>\n",
              "      <th>GU</th>\n",
              "    </tr>\n",
              "  </thead>\n",
              "  <tbody>\n",
              "    <tr>\n",
              "      <th>0</th>\n",
              "      <td>DB00303</td>\n",
              "      <td>P45059</td>\n",
              "      <td>[H][C@]12[C@@H](C)C(S[C@]3([H])CN[C@@]([H])(C3...</td>\n",
              "      <td>MVKFNSSRKSGKSKKTIRKLTAPETVKQNKPQKVFEKCFMRGRYML...</td>\n",
              "      <td>1</td>\n",
              "    </tr>\n",
              "    <tr>\n",
              "      <th>1</th>\n",
              "      <td>DB00114</td>\n",
              "      <td>P19113</td>\n",
              "      <td>CC1=NC=C(COP(O)(O)=O)C(C=O)=C1O</td>\n",
              "      <td>MMEPEEYRERGREMVDYICQYLSTVRERRVTPDVQPGYLRAQLPES...</td>\n",
              "      <td>1</td>\n",
              "    </tr>\n",
              "    <tr>\n",
              "      <th>2</th>\n",
              "      <td>DB00117</td>\n",
              "      <td>P19113</td>\n",
              "      <td>N[C@@H](CC1=CNC=N1)C(O)=O</td>\n",
              "      <td>MMEPEEYRERGREMVDYICQYLSTVRERRVTPDVQPGYLRAQLPES...</td>\n",
              "      <td>1</td>\n",
              "    </tr>\n",
              "    <tr>\n",
              "      <th>3</th>\n",
              "      <td>DB00142</td>\n",
              "      <td>Q9UI32</td>\n",
              "      <td>N[C@@H](CCC(O)=O)C(O)=O</td>\n",
              "      <td>MRSMKALQKALSRAGSHCGRGGWGHPSRSPLLGGGVRHHLSEAAAQ...</td>\n",
              "      <td>1</td>\n",
              "    </tr>\n",
              "    <tr>\n",
              "      <th>4</th>\n",
              "      <td>DB01839</td>\n",
              "      <td>P00488</td>\n",
              "      <td>CC(O)CO</td>\n",
              "      <td>MSETSRTAFGGRRAVPPNNSNAAEDDLPTVELQGVVPRGVNLQEFL...</td>\n",
              "      <td>1</td>\n",
              "    </tr>\n",
              "  </tbody>\n",
              "</table>\n",
              "</div>\n",
              "    <div class=\"colab-df-buttons\">\n",
              "\n",
              "  <div class=\"colab-df-container\">\n",
              "    <button class=\"colab-df-convert\" onclick=\"convertToInteractive('df-119df7db-8819-4b87-be35-34b36a95f177')\"\n",
              "            title=\"Convert this dataframe to an interactive table.\"\n",
              "            style=\"display:none;\">\n",
              "\n",
              "  <svg xmlns=\"http://www.w3.org/2000/svg\" height=\"24px\" viewBox=\"0 -960 960 960\">\n",
              "    <path d=\"M120-120v-720h720v720H120Zm60-500h600v-160H180v160Zm220 220h160v-160H400v160Zm0 220h160v-160H400v160ZM180-400h160v-160H180v160Zm440 0h160v-160H620v160ZM180-180h160v-160H180v160Zm440 0h160v-160H620v160Z\"/>\n",
              "  </svg>\n",
              "    </button>\n",
              "\n",
              "  <style>\n",
              "    .colab-df-container {\n",
              "      display:flex;\n",
              "      gap: 12px;\n",
              "    }\n",
              "\n",
              "    .colab-df-convert {\n",
              "      background-color: #E8F0FE;\n",
              "      border: none;\n",
              "      border-radius: 50%;\n",
              "      cursor: pointer;\n",
              "      display: none;\n",
              "      fill: #1967D2;\n",
              "      height: 32px;\n",
              "      padding: 0 0 0 0;\n",
              "      width: 32px;\n",
              "    }\n",
              "\n",
              "    .colab-df-convert:hover {\n",
              "      background-color: #E2EBFA;\n",
              "      box-shadow: 0px 1px 2px rgba(60, 64, 67, 0.3), 0px 1px 3px 1px rgba(60, 64, 67, 0.15);\n",
              "      fill: #174EA6;\n",
              "    }\n",
              "\n",
              "    .colab-df-buttons div {\n",
              "      margin-bottom: 4px;\n",
              "    }\n",
              "\n",
              "    [theme=dark] .colab-df-convert {\n",
              "      background-color: #3B4455;\n",
              "      fill: #D2E3FC;\n",
              "    }\n",
              "\n",
              "    [theme=dark] .colab-df-convert:hover {\n",
              "      background-color: #434B5C;\n",
              "      box-shadow: 0px 1px 3px 1px rgba(0, 0, 0, 0.15);\n",
              "      filter: drop-shadow(0px 1px 2px rgba(0, 0, 0, 0.3));\n",
              "      fill: #FFFFFF;\n",
              "    }\n",
              "  </style>\n",
              "\n",
              "    <script>\n",
              "      const buttonEl =\n",
              "        document.querySelector('#df-119df7db-8819-4b87-be35-34b36a95f177 button.colab-df-convert');\n",
              "      buttonEl.style.display =\n",
              "        google.colab.kernel.accessAllowed ? 'block' : 'none';\n",
              "\n",
              "      async function convertToInteractive(key) {\n",
              "        const element = document.querySelector('#df-119df7db-8819-4b87-be35-34b36a95f177');\n",
              "        const dataTable =\n",
              "          await google.colab.kernel.invokeFunction('convertToInteractive',\n",
              "                                                    [key], {});\n",
              "        if (!dataTable) return;\n",
              "\n",
              "        const docLinkHtml = 'Like what you see? Visit the ' +\n",
              "          '<a target=\"_blank\" href=https://colab.research.google.com/notebooks/data_table.ipynb>data table notebook</a>'\n",
              "          + ' to learn more about interactive tables.';\n",
              "        element.innerHTML = '';\n",
              "        dataTable['output_type'] = 'display_data';\n",
              "        await google.colab.output.renderOutput(dataTable, element);\n",
              "        const docLink = document.createElement('div');\n",
              "        docLink.innerHTML = docLinkHtml;\n",
              "        element.appendChild(docLink);\n",
              "      }\n",
              "    </script>\n",
              "  </div>\n",
              "\n",
              "\n",
              "<div id=\"df-895f07b2-e66d-41be-8cf0-f4af491c169a\">\n",
              "  <button class=\"colab-df-quickchart\" onclick=\"quickchart('df-895f07b2-e66d-41be-8cf0-f4af491c169a')\"\n",
              "            title=\"Suggest charts\"\n",
              "            style=\"display:none;\">\n",
              "\n",
              "<svg xmlns=\"http://www.w3.org/2000/svg\" height=\"24px\"viewBox=\"0 0 24 24\"\n",
              "     width=\"24px\">\n",
              "    <g>\n",
              "        <path d=\"M19 3H5c-1.1 0-2 .9-2 2v14c0 1.1.9 2 2 2h14c1.1 0 2-.9 2-2V5c0-1.1-.9-2-2-2zM9 17H7v-7h2v7zm4 0h-2V7h2v10zm4 0h-2v-4h2v4z\"/>\n",
              "    </g>\n",
              "</svg>\n",
              "  </button>\n",
              "\n",
              "<style>\n",
              "  .colab-df-quickchart {\n",
              "      --bg-color: #E8F0FE;\n",
              "      --fill-color: #1967D2;\n",
              "      --hover-bg-color: #E2EBFA;\n",
              "      --hover-fill-color: #174EA6;\n",
              "      --disabled-fill-color: #AAA;\n",
              "      --disabled-bg-color: #DDD;\n",
              "  }\n",
              "\n",
              "  [theme=dark] .colab-df-quickchart {\n",
              "      --bg-color: #3B4455;\n",
              "      --fill-color: #D2E3FC;\n",
              "      --hover-bg-color: #434B5C;\n",
              "      --hover-fill-color: #FFFFFF;\n",
              "      --disabled-bg-color: #3B4455;\n",
              "      --disabled-fill-color: #666;\n",
              "  }\n",
              "\n",
              "  .colab-df-quickchart {\n",
              "    background-color: var(--bg-color);\n",
              "    border: none;\n",
              "    border-radius: 50%;\n",
              "    cursor: pointer;\n",
              "    display: none;\n",
              "    fill: var(--fill-color);\n",
              "    height: 32px;\n",
              "    padding: 0;\n",
              "    width: 32px;\n",
              "  }\n",
              "\n",
              "  .colab-df-quickchart:hover {\n",
              "    background-color: var(--hover-bg-color);\n",
              "    box-shadow: 0 1px 2px rgba(60, 64, 67, 0.3), 0 1px 3px 1px rgba(60, 64, 67, 0.15);\n",
              "    fill: var(--button-hover-fill-color);\n",
              "  }\n",
              "\n",
              "  .colab-df-quickchart-complete:disabled,\n",
              "  .colab-df-quickchart-complete:disabled:hover {\n",
              "    background-color: var(--disabled-bg-color);\n",
              "    fill: var(--disabled-fill-color);\n",
              "    box-shadow: none;\n",
              "  }\n",
              "\n",
              "  .colab-df-spinner {\n",
              "    border: 2px solid var(--fill-color);\n",
              "    border-color: transparent;\n",
              "    border-bottom-color: var(--fill-color);\n",
              "    animation:\n",
              "      spin 1s steps(1) infinite;\n",
              "  }\n",
              "\n",
              "  @keyframes spin {\n",
              "    0% {\n",
              "      border-color: transparent;\n",
              "      border-bottom-color: var(--fill-color);\n",
              "      border-left-color: var(--fill-color);\n",
              "    }\n",
              "    20% {\n",
              "      border-color: transparent;\n",
              "      border-left-color: var(--fill-color);\n",
              "      border-top-color: var(--fill-color);\n",
              "    }\n",
              "    30% {\n",
              "      border-color: transparent;\n",
              "      border-left-color: var(--fill-color);\n",
              "      border-top-color: var(--fill-color);\n",
              "      border-right-color: var(--fill-color);\n",
              "    }\n",
              "    40% {\n",
              "      border-color: transparent;\n",
              "      border-right-color: var(--fill-color);\n",
              "      border-top-color: var(--fill-color);\n",
              "    }\n",
              "    60% {\n",
              "      border-color: transparent;\n",
              "      border-right-color: var(--fill-color);\n",
              "    }\n",
              "    80% {\n",
              "      border-color: transparent;\n",
              "      border-right-color: var(--fill-color);\n",
              "      border-bottom-color: var(--fill-color);\n",
              "    }\n",
              "    90% {\n",
              "      border-color: transparent;\n",
              "      border-bottom-color: var(--fill-color);\n",
              "    }\n",
              "  }\n",
              "</style>\n",
              "\n",
              "  <script>\n",
              "    async function quickchart(key) {\n",
              "      const quickchartButtonEl =\n",
              "        document.querySelector('#' + key + ' button');\n",
              "      quickchartButtonEl.disabled = true;  // To prevent multiple clicks.\n",
              "      quickchartButtonEl.classList.add('colab-df-spinner');\n",
              "      try {\n",
              "        const charts = await google.colab.kernel.invokeFunction(\n",
              "            'suggestCharts', [key], {});\n",
              "      } catch (error) {\n",
              "        console.error('Error during call to suggestCharts:', error);\n",
              "      }\n",
              "      quickchartButtonEl.classList.remove('colab-df-spinner');\n",
              "      quickchartButtonEl.classList.add('colab-df-quickchart-complete');\n",
              "    }\n",
              "    (() => {\n",
              "      let quickchartButtonEl =\n",
              "        document.querySelector('#df-895f07b2-e66d-41be-8cf0-f4af491c169a button');\n",
              "      quickchartButtonEl.style.display =\n",
              "        google.colab.kernel.accessAllowed ? 'block' : 'none';\n",
              "    })();\n",
              "  </script>\n",
              "</div>\n",
              "    </div>\n",
              "  </div>\n"
            ],
            "application/vnd.google.colaboratory.intrinsic+json": {
              "type": "dataframe",
              "variable_name": "df_drug",
              "summary": "{\n  \"name\": \"df_drug\",\n  \"rows\": 35022,\n  \"fields\": [\n    {\n      \"column\": \"ID\",\n      \"properties\": {\n        \"dtype\": \"category\",\n        \"num_unique_values\": 6647,\n        \"samples\": [\n          \"DB06652\",\n          \"DB08251\",\n          \"DB00894\"\n        ],\n        \"semantic_type\": \"\",\n        \"description\": \"\"\n      }\n    },\n    {\n      \"column\": \"CHECK\",\n      \"properties\": {\n        \"dtype\": \"category\",\n        \"num_unique_values\": 4294,\n        \"samples\": [\n          \"P22694\",\n          \"Q8N119\",\n          \"Q8I492\"\n        ],\n        \"semantic_type\": \"\",\n        \"description\": \"\"\n      }\n    },\n    {\n      \"column\": \"SMILES\",\n      \"properties\": {\n        \"dtype\": \"category\",\n        \"num_unique_values\": 6645,\n        \"samples\": [\n          \"CO\\\\N=C(/C(=O)N[C@H](C=O)[C@H]1SCC(=C)C(=N1)C(O)=O)C1=CSC(N)=N1\",\n          \"CN1CCN2C(C1)C1=CC=CC=C1CC1=C2N=CC=C1\",\n          \"CCN(CCCC1=CC=CC=C1)CCCC1=CC=CC=C1\"\n        ],\n        \"semantic_type\": \"\",\n        \"description\": \"\"\n      }\n    },\n    {\n      \"column\": \"ANEH\",\n      \"properties\": {\n        \"dtype\": \"category\",\n        \"num_unique_values\": 4254,\n        \"samples\": [\n          \"MTTSGHACPVPAVNGHMTHYPATPYPLLFPPVIGGLSLPPLHGLHGHPPPSGCSTPSPATIETQSTSSEELVPSPPSPLPPPRVYKPCFVCQDKSSGYHYGVSACEGCKGFFRRSIQKNMIYTCHRDKNCVINKVTRNRCQYCRLQKCFEVGMSKESVRNDRNKKKKETSKQECTESYEMTAELDDLTEKIRKAHQETFPSLCQLGKYTTNSSADHRVRLDLGLWDKFSELATKCIIKIVEFAKRLPGFTGLTIADQITLLKAACLDILILRICTRYTPEQDTMTFSDGLTLNRTQMHNAGFGPLTDLVFTFANQLLPLEMDDTETGLLSAICLICGDRQDLEEPTKVDKLQEPLLEALKIYIRKRRPSKPHMFPKILMKITDLRSISAKGAERVITLKMEIPGSMPPLIQEMLENSEGHEPLTPSSSGNTAEHSPSISPSSVENSGVSQSPLVQ\",\n          \"MADSRDPASDQMQHWKEQRAAQKADVLTTGAGNPVGDKLNVITVGPRGPLLVQDVVFTDEMAHFDRERIPERVVHAKGAGAFGYFEVTHDITKYSKAKVFEHIGKKTPIAVRFSTVAGESGSADTVRDPRGFAVKFYTEDGNWDLVGNNTPIFFIRDPILFPSFIHSQKRNPQTHLKDPDMVWDFWSLRPESLHQVSFLFSDRGIPDGHRHMNGYGSHTFKLVNANGEAVYCKFHYKTDQGIKNLSVEDAARLSQEDPDYGIRDLFNAIATGKYPSWTFYIQVMTFNQAETFPFNPFDLTKVWPHKDYPLIPVGKLVLNRNPVNYFAEVEQIAFDPSNMPPGIEASPDKMLQGRLFAYPDTHRHRLGPNYLHIPVNCPYRARVANYQRDGPMCMQDNQGGAPNYYPNSFGAPEQQPSALEHSIQYSGEVRRFNTANDDNVTQVRAFYVNVLNEEQRKRLCENIAGHLKDAQIFIQKKAVKNFTEVHPDYGSHIQALLDKYNAEKPKNAIHTFVQSGSHLAAREKANL\",\n          \"MSKRLRVEDDFNPVYPYGYARNQNIPFLTPPFVSSDGFKNFPPGVLSLKLADPITITNGDVSLKVGGGLTLQDGSLTVNPKAPLQVTTDKKLELAYDNPFECSANKFSLKVGHGLKVLDEKSAAGLKDLIGKLVVLTGKGIGTENLENTDGSSRGIGINVRAREGLTFDNDGYLVAWNPKYDTRTLWTTPDTSPNCTIAQDKDSKLTLVLTKCGSQILANVSLIVVAGKYHIINNKTNPEIKSFTIKLLFNKNGVLLDNSNLGKAYWNFRSGNSNVSTAYEKAIGFMPNLVAYPKPSNSKKYARDIVYGTIYLGGKPDQPAVIKTTFNQETGCEYSITFDFSWSKTYENVEFETTSFTFSYIAQE\"\n        ],\n        \"semantic_type\": \"\",\n        \"description\": \"\"\n      }\n    },\n    {\n      \"column\": \"GU\",\n      \"properties\": {\n        \"dtype\": \"number\",\n        \"std\": 0,\n        \"min\": 0,\n        \"max\": 1,\n        \"num_unique_values\": 2,\n        \"samples\": [\n          0,\n          1\n        ],\n        \"semantic_type\": \"\",\n        \"description\": \"\"\n      }\n    }\n  ]\n}"
            }
          },
          "metadata": {},
          "execution_count": 5
        }
      ]
    },
    {
      "cell_type": "code",
      "source": [
        "smiles = df_drug['SMILES'].tolist()\n",
        "print(len(smiles))"
      ],
      "metadata": {
        "colab": {
          "base_uri": "https://localhost:8080/"
        },
        "id": "2K1xX3DNvWKC",
        "outputId": "cebab971-40fb-48d0-9be3-611414947005"
      },
      "execution_count": null,
      "outputs": [
        {
          "output_type": "stream",
          "name": "stdout",
          "text": [
            "35022\n"
          ]
        }
      ]
    },
    {
      "cell_type": "code",
      "source": [
        "from rdkit import Chem\n",
        "from rdkit.Chem import AllChem\n",
        "from rdkit.DataStructs import TanimotoSimilarity\n",
        "\n",
        "def tanimoto(smiles1, smiles2):\n",
        "    # Convert SMILES strings to RDKit molecule objects\n",
        "    mol1 = Chem.MolFromSmiles(smiles1)\n",
        "    mol2 = Chem.MolFromSmiles(smiles2)\n",
        "\n",
        "    if mol1 is None or mol2 is None:\n",
        "        return None\n",
        "\n",
        "    # Generate Morgan fingerprints for the molecules\n",
        "    fp1 = AllChem.GetMorganFingerprint(mol1, 2)  # radius 2 Morgan fingerprint\n",
        "    fp2 = AllChem.GetMorganFingerprint(mol2, 2)  # radius 2 Morgan fingerprint\n",
        "\n",
        "    # Calculate Tanimoto similarity between the fingerprints\n",
        "    similarity = TanimotoSimilarity(fp1, fp2)\n",
        "\n",
        "    return similarity"
      ],
      "metadata": {
        "id": "PtWQbZ73wdkd"
      },
      "execution_count": null,
      "outputs": []
    },
    {
      "cell_type": "code",
      "source": [
        "from rdkit import Chem\n",
        "from rdkit.Chem import Crippen, Descriptors\n",
        "\n",
        "def calculate_logkp(smiles):\n",
        "    mol = Chem.MolFromSmiles(smiles)\n",
        "    if mol is None:\n",
        "        return None\n",
        "\n",
        "    log_p = Crippen.MolLogP(mol)\n",
        "    tpsa = Descriptors.TPSA(mol)\n",
        "    mw = Descriptors.MolWt(mol)\n",
        "    log_kp = -6.136 + 0.818*log_p - 0.005*tpsa - 0.007*mw\n",
        "    return log_kp"
      ],
      "metadata": {
        "id": "1Ii4Sg2CiDfz"
      },
      "execution_count": null,
      "outputs": []
    },
    {
      "cell_type": "code",
      "source": [
        "def read_file_lines(file_path):\n",
        "    # Initialize an empty list to store the lines\n",
        "    lines = []\n",
        "\n",
        "    # Open the file in read mode\n",
        "    with open(file_path, 'r') as file:\n",
        "        # Iterate over each line in the file\n",
        "        for line in file:\n",
        "            # Strip newline characters and append the line to the list\n",
        "            lines.append(line.strip())\n",
        "\n",
        "    return lines"
      ],
      "metadata": {
        "id": "38O5CkYRyR9j"
      },
      "execution_count": null,
      "outputs": []
    },
    {
      "cell_type": "code",
      "source": [
        "def veber_rule(molecule):\n",
        "    \"\"\"\n",
        "    Apply Veber's Rule to evaluate the molecule's drug-likeness.\n",
        "\n",
        "    Args:\n",
        "    molecule (RDKit Mol object): The molecule to evaluate.\n",
        "\n",
        "    Returns:\n",
        "    bool: True if the molecule passes Veber's Rule, False otherwise.\n",
        "    \"\"\"\n",
        "    num_rotatable_bonds = rdMolDescriptors.CalcNumRotatableBonds(molecule)\n",
        "    polar_surface_area = rdMolDescriptors.CalcTPSA(molecule)\n",
        "\n",
        "    return num_rotatable_bonds <= 10 and polar_surface_area <= 140\n",
        "\n",
        "def egan_rule(molecule):\n",
        "    \"\"\"\n",
        "    Apply Egan's Rule to evaluate the molecule's drug-likeness.\n",
        "\n",
        "    Args:\n",
        "    molecule (RDKit Mol object): The molecule to evaluate.\n",
        "\n",
        "    Returns:\n",
        "    bool: True if the molecule passes Egan's Rule, False otherwise.\n",
        "    \"\"\"\n",
        "    logP = Crippen.MolLogP(molecule)\n",
        "    molecular_weight = rdMolDescriptors.CalcExactMolWt(molecule)\n",
        "\n",
        "    return 1 <= logP <= 3.5 and molecular_weight <= 400\n",
        "\n",
        "def lipinski_rule_of_five(molecule_smiles):\n",
        "    \"\"\"\n",
        "    Perform Lipinski's Rule of Five screening for a molecule.\n",
        "\n",
        "    Args:\n",
        "    molecule_smiles (str): SMILES representation of the molecule.\n",
        "\n",
        "    Returns:\n",
        "    bool: True if the molecule passes Lipinski's Rule of Five, False otherwise.\n",
        "    \"\"\"\n",
        "    # Convert SMILES to RDKit molecule object\n",
        "    molecule = Chem.MolFromSmiles(molecule_smiles)\n",
        "\n",
        "    # Check if molecule is None (invalid SMILES)\n",
        "    if molecule is None:\n",
        "        raise ValueError(\"Invalid SMILES representation\")\n",
        "\n",
        "    # Apply Lipinski's Rule of Five\n",
        "    violations = 0\n",
        "    if Lipinski.NumHDonors(molecule) > 5:\n",
        "        violations += 1\n",
        "    if Lipinski.NumHAcceptors(molecule) > 10:\n",
        "        violations += 1\n",
        "    if Chem.CalcNumRotatableBonds(molecule) > 10:\n",
        "        violations += 1\n",
        "    if Chem.CalcExactMolWt(molecule) > 500:\n",
        "        violations += 1\n",
        "\n",
        "    # Return True if violations are less than or equal to 1\n",
        "    return violations <= 1"
      ],
      "metadata": {
        "id": "strQkVZQ-dME"
      },
      "execution_count": null,
      "outputs": []
    },
    {
      "cell_type": "code",
      "source": [
        "# Example usage\n",
        "file_path = '/content/drive/MyDrive/Network Pharmacology of Tawar/NP_Oryza.txt'  # Replace 'example.txt' with the path to your text file\n",
        "np_oryzas = read_file_lines(file_path)\n",
        "print(np_oryzas)"
      ],
      "metadata": {
        "colab": {
          "base_uri": "https://localhost:8080/"
        },
        "id": "R-X82g4nlX-4",
        "outputId": "3fee035e-4e6f-494c-fa0c-9c4606e55baa"
      },
      "execution_count": null,
      "outputs": [
        {
          "output_type": "stream",
          "name": "stdout",
          "text": [
            "['Coronatine', 'ent-Kaurene', 'delta-Tocopherol', 'beta-Tocopherol', 'gamma-Tocopherol', 'alpha-Tocopherol', '(+)-Dehydrovomifoliol', 'Phytocassane B', 'Phytocassane C', 'Phytocassane D', 'Phytocassane E', 'alpha-Tocotrienol', 'beta-Tocotrienol', 'delta-Tocotrienol', 'gamma-Tocotrienol', 'Phytocassane A', '1-Butyl-2-propylcyclopentane', '2,2,6-Trimethyldecane', '2,6-Dimethyl-decahydronaphthalene', '2-Hexyl-1-decanol', '2-methylhexane', '4,6-Dimethylundecane', '28-Homotyphasterol']\n"
          ]
        }
      ]
    },
    {
      "cell_type": "code",
      "source": [
        "np_oryza = []\n",
        "broken_oryza = []\n",
        "names_o = []"
      ],
      "metadata": {
        "id": "W_Ic_rEA0F7K"
      },
      "execution_count": null,
      "outputs": []
    },
    {
      "cell_type": "code",
      "source": [
        "for x in np_oryzas:\n",
        "  try:\n",
        "    comps = get_compounds(str(x), 'name')\n",
        "    compo = comps[0].isomeric_smiles\n",
        "    molecule = Chem.MolFromSmiles(comps[0].isomeric_smiles)\n",
        "    if molecule is not None:\n",
        "        veber_pass = veber_rule(molecule)\n",
        "        egan_pass = egan_rule(molecule)\n",
        "        check = calculate_logkp(compo)\n",
        "        if veber_pass and egan_rule and check<-2.5:\n",
        "          tani = []\n",
        "          for z in smiles:\n",
        "            similar = tanimoto(compo, z)\n",
        "            tani.append(similar)\n",
        "          if max(tani) > 0.2:\n",
        "            np_oryza.append(compo)\n",
        "            names_o.append(x)\n",
        "          else:\n",
        "            print(\"Nope!\")\n",
        "        else:\n",
        "            print('Nope!')\n",
        "    else:\n",
        "          print('Invalid!')\n",
        "  except:\n",
        "    print('Name error: ' + str(np_oryzas.index(x)))\n",
        "    broken_oryza.append(np_oryzas.index(x))"
      ],
      "metadata": {
        "colab": {
          "base_uri": "https://localhost:8080/"
        },
        "id": "EmP-RJ5vz307",
        "outputId": "5c8b0320-5978-47d4-83e0-ccff20fb63eb"
      },
      "execution_count": null,
      "outputs": [
        {
          "output_type": "stream",
          "name": "stdout",
          "text": [
            "Nope!\n",
            "Nope!\n",
            "Nope!\n",
            "Nope!\n",
            "Nope!\n",
            "Nope!\n",
            "Nope!\n",
            "Nope!\n",
            "Name error: 22\n"
          ]
        }
      ]
    },
    {
      "cell_type": "code",
      "source": [
        "print(np_oryza)"
      ],
      "metadata": {
        "colab": {
          "base_uri": "https://localhost:8080/"
        },
        "id": "Hi89jJarmvbp",
        "outputId": "024f3847-d40c-4a3b-adc9-502d783eb5ee"
      },
      "execution_count": null,
      "outputs": [
        {
          "output_type": "stream",
          "name": "stdout",
          "text": [
            "['CC[C@@H]1C[C@H]2[C@H](CCC2=O)C(=C1)C(=O)N[C@]3(C[C@@H]3CC)C(=O)O', 'C[C@@]12CCCC([C@H]1CC[C@]34[C@H]2CC[C@H](C3)C(=C)C4)(C)C', 'CC1=CC(=O)CC([C@]1(/C=C/C(=O)C)O)(C)C', 'C[C@@H]1[C@@H]2CC[C@@H]3[C@@]([C@H]2C(=O)C=C1C=C)([C@@H]([C@@H]([C@@H](C3(C)C)O)O)O)C', 'C[C@@H]1[C@@H]2CC[C@@H]3[C@@]([C@H]2C(=O)C=C1C=C)([C@@H](C[C@@H](C3(C)C)O)O)C', 'C[C@H]1[C@H]2CC[C@H]3[C@]([C@@H]2C(=O)C=C1C=C)(CC(=O)[C@H](C3(C)C)O)C', 'C[C@@H]1[C@@H]2CC[C@@H]3[C@@]([C@H]2C(=O)C=C1C=C)([C@@H](CC(=O)C3(C)C)O)C', 'CC1=CC(=CC2=C1O[C@](CC2)(C)CC/C=C(\\\\C)/CC/C=C(\\\\C)/CCC=C(C)C)O', 'C[C@H]1[C@H]2CC[C@H]3[C@]([C@@H]2C(=O)C=C1C=C)(C[C@H](C(=O)C3(C)C)O)C', 'CCCCC1CCCC1CCC', 'CCCCC(C)CCCC(C)(C)C', 'CC1CCC2CC(CCC2C1)C', 'CCCCC(C)C', 'CCCCCC(C)CC(C)CCC']\n"
          ]
        }
      ]
    },
    {
      "cell_type": "code",
      "source": [
        "print(names_o)"
      ],
      "metadata": {
        "colab": {
          "base_uri": "https://localhost:8080/"
        },
        "id": "3H_2OWo2JGXP",
        "outputId": "af4118c7-aff1-49cb-e4ae-281b84b29221"
      },
      "execution_count": null,
      "outputs": [
        {
          "output_type": "stream",
          "name": "stdout",
          "text": [
            "['Coronatine', 'ent-Kaurene', '(+)-Dehydrovomifoliol', 'Phytocassane B', 'Phytocassane C', 'Phytocassane D', 'Phytocassane E', 'delta-Tocotrienol', 'Phytocassane A', '1-Butyl-2-propylcyclopentane', '2,2,6-Trimethyldecane', '2,6-Dimethyl-decahydronaphthalene', '2-methylhexane', '4,6-Dimethylundecane']\n"
          ]
        }
      ]
    },
    {
      "cell_type": "code",
      "source": [
        "file_path = '/content/drive/MyDrive/Network Pharmacology of Tawar/NP_Zingiber.txt'  # Replace 'example.txt' with the path to your text file\n",
        "np_Zingibers = read_file_lines(file_path)\n",
        "np_Zingiber = []\n",
        "names_z = []\n",
        "broken_Zingiber = []\n",
        "for x in np_Zingibers:\n",
        "  try:\n",
        "    comps = get_compounds(str(x), 'name')\n",
        "    compo = comps[0].isomeric_smiles\n",
        "    molecule = Chem.MolFromSmiles(comps[0].isomeric_smiles)\n",
        "    if molecule is not None:\n",
        "        veber_pass = veber_rule(molecule)\n",
        "        egan_pass = egan_rule(molecule)\n",
        "        check = calculate_logkp(compo)\n",
        "        if veber_pass and egan_rule and check<-2.5:\n",
        "          tani = []\n",
        "          for z in smiles:\n",
        "            similar = tanimoto(compo, z)\n",
        "            tani.append(similar)\n",
        "          if max(tani) > 0.2:\n",
        "            np_Zingiber.append(compo)\n",
        "            names_z.append(x)\n",
        "          else:\n",
        "            print(\"Nope!\")\n",
        "        else:\n",
        "            print('Nope!')\n",
        "    else:\n",
        "          print('Invalid!')\n",
        "  except:\n",
        "    print('Name error: ' + str(np_Zingibers.index(x)))\n",
        "    broken_Zingiber.append(np_Zingibers.index(x))"
      ],
      "metadata": {
        "colab": {
          "base_uri": "https://localhost:8080/"
        },
        "id": "V2TYFaMDnUfP",
        "outputId": "56f3975f-ed12-4b31-fe83-6d81128536e8"
      },
      "execution_count": null,
      "outputs": [
        {
          "output_type": "stream",
          "name": "stdout",
          "text": [
            "Nope!\n",
            "Nope!\n",
            "Nope!\n",
            "Nope!\n",
            "Name error: 14\n",
            "Nope!\n",
            "Nope!\n",
            "Name error: 17\n",
            "Name error: 18\n",
            "Name error: 19\n",
            "Nope!\n",
            "Name error: 21\n",
            "Name error: 22\n",
            "Name error: 23\n",
            "Name error: 24\n"
          ]
        }
      ]
    },
    {
      "cell_type": "code",
      "source": [
        "print(np_Zingiber)"
      ],
      "metadata": {
        "colab": {
          "base_uri": "https://localhost:8080/"
        },
        "id": "wroWZGftm1H_",
        "outputId": "536db227-e2a7-4371-fe3e-22b53a2d64b8"
      },
      "execution_count": null,
      "outputs": [
        {
          "output_type": "stream",
          "name": "stdout",
          "text": [
            "['C[C@]12CC[C@H](C1(C)C)CC2=O', 'CC1=CCC2CC1C2(C)C', 'CC1(C2CCC(=C)C1C2)C', 'CC1(C2CCC(C2)C1=C)C', 'CC(=CCC/C(=C/C=O)/C)C', 'C[C@@H]1CC[C@@H]2[C@]13CC=C([C@H](C3)C2(C)C)C', 'CC(=CCC/C(=C/C/C=C(\\\\C)/C=C)/C)C', 'C/C/1=C\\\\CCC(=C)/C=C/[C@@H](CC1)C(C)C', 'CC(C)C1CCC2(C3C1C4C2(C4C3)C)C', 'CCCCCCCCCC(=O)C']\n"
          ]
        }
      ]
    },
    {
      "cell_type": "code",
      "source": [
        "print(names_z)"
      ],
      "metadata": {
        "colab": {
          "base_uri": "https://localhost:8080/"
        },
        "id": "U6QoJjvXJPgR",
        "outputId": "4cad22f9-695d-48b3-9f4c-d4ea45388cc5"
      },
      "execution_count": null,
      "outputs": [
        {
          "output_type": "stream",
          "name": "stdout",
          "text": [
            "['(-)-Camphor', 'alpha-Pinene', 'beta-Pinene', 'Camphene', 'trans-Citral', 'alpha-Cedrene', 'alpha-Farnesene', '(-)-Germacrene D', '(+)-Cyclosativene', '2-Undecanone']\n"
          ]
        }
      ]
    },
    {
      "cell_type": "code",
      "source": [
        "file_path = '/content/drive/MyDrive/Network Pharmacology of Tawar/NP_Piper.txt'  # Replace 'example.txt' with the path to your text file\n",
        "np_Pipers = read_file_lines(file_path)\n",
        "np_Piper = []\n",
        "names_p = []\n",
        "broken_Piper = []\n",
        "for x in np_Pipers:\n",
        "  try:\n",
        "    comps = get_compounds(str(x), 'name')\n",
        "    compo = comps[0].isomeric_smiles\n",
        "    molecule = Chem.MolFromSmiles(comps[0].isomeric_smiles)\n",
        "    if molecule is not None:\n",
        "        veber_pass = veber_rule(molecule)\n",
        "        egan_pass = egan_rule(molecule)\n",
        "        check = calculate_logkp(compo)\n",
        "        if veber_pass and egan_rule and check<-2.5:\n",
        "          tani = []\n",
        "          for z in smiles:\n",
        "            similar = tanimoto(compo, z)\n",
        "            tani.append(similar)\n",
        "          if max(tani) > 0.2:\n",
        "            np_Piper.append(compo)\n",
        "            names_p.append(x)\n",
        "          else:\n",
        "            print(\"Nope!\")\n",
        "        else:\n",
        "            print('Nope!')\n",
        "    else:\n",
        "          print('Invalid!')\n",
        "  except:\n",
        "    print('Name error: ' + str(np_Pipers.index(x)))\n",
        "    broken_Piper.append(np_Pipers.index(x))"
      ],
      "metadata": {
        "colab": {
          "base_uri": "https://localhost:8080/"
        },
        "outputId": "bf3269b2-992e-4648-c010-52a217422ce1",
        "id": "wtdriabG5Hpq"
      },
      "execution_count": null,
      "outputs": [
        {
          "output_type": "stream",
          "name": "stdout",
          "text": [
            "Nope!\n",
            "Name error: 3\n",
            "Name error: 5\n",
            "Nope!\n",
            "Nope!\n"
          ]
        }
      ]
    },
    {
      "cell_type": "code",
      "source": [
        "print(np_Piper)"
      ],
      "metadata": {
        "colab": {
          "base_uri": "https://localhost:8080/"
        },
        "id": "wZEn1wQv5OyY",
        "outputId": "e71851ec-a401-4ff5-e6c1-50d04b3d946e"
      },
      "execution_count": null,
      "outputs": [
        {
          "output_type": "stream",
          "name": "stdout",
          "text": [
            "['CC[C@H](CC[C@@H](C)[C@H]1CC[C@@H]2[C@@]1(CC[C@H]3[C@H]2CC=C4[C@@]3(CC[C@@H](C4)O)C)C)C(C)C', 'CC[C@H](/C=C/[C@@H](C)[C@H]1CC[C@@H]2[C@@]1(CC[C@H]3[C@H]2CC=C4[C@@]3(CC[C@@H](C4)O)C)C)C(C)C', 'CCCCC/C=C\\\\C=C\\\\C(=O)NCC(C)C', 'CCCCC/C=C/C=C/C(=O)N1CCCC1', 'CCCCCCC/C=C/C=C/C(=O)N1CCCC1', 'CC[C@H](CC[C@@H](C)[C@H]1CC[C@@H]2[C@@]1(CC[C@H]3[C@H]2CC[C@@H]4[C@@]3(CC[C@@H](C4)O)C)C)C(C)C']\n"
          ]
        }
      ]
    },
    {
      "cell_type": "code",
      "source": [
        "print(names_p)"
      ],
      "metadata": {
        "colab": {
          "base_uri": "https://localhost:8080/"
        },
        "id": "mgZZyL0pJiRA",
        "outputId": "99bacc4b-c0b8-4b50-925d-046d76e27d64"
      },
      "execution_count": null,
      "outputs": [
        {
          "output_type": "stream",
          "name": "stdout",
          "text": [
            "['(-)-beta-Sitosterol', 'beta-Stigmasterol', 'N-Isobutyldeca-trans-2-trans-4-dienamide', 'Sarmentine', '[(2E,4E)-Dodecadienoyl]-pyrrolidine', '(3beta,5alpha)-Stigmastan-3-ol']\n"
          ]
        }
      ]
    },
    {
      "cell_type": "code",
      "source": [
        "file_path = '/content/drive/MyDrive/Network Pharmacology of Tawar/NP_Sativa.txt'  # Replace 'example.txt' with the path to your text file\n",
        "np_Sativas = read_file_lines(file_path)\n",
        "np_Sativa = []\n",
        "names_s = []\n",
        "broken_Sativa = []\n",
        "for x in np_Sativas:\n",
        "  try:\n",
        "    comps = get_compounds(str(x), 'name')\n",
        "    compo = comps[0].isomeric_smiles\n",
        "    molecule = Chem.MolFromSmiles(comps[0].isomeric_smiles)\n",
        "    if molecule is not None:\n",
        "        veber_pass = veber_rule(molecule)\n",
        "        egan_pass = egan_rule(molecule)\n",
        "        check = calculate_logkp(compo)\n",
        "        if veber_pass and egan_rule and check<-2.5:\n",
        "          tani = []\n",
        "          for z in smiles:\n",
        "            similar = tanimoto(compo, z)\n",
        "            tani.append(similar)\n",
        "          if max(tani) > 0.2:\n",
        "            np_Sativa.append(compo)\n",
        "            names_s.append(x)\n",
        "          else:\n",
        "            print(\"Nope!\")\n",
        "        else:\n",
        "            print('Nope!')\n",
        "    else:\n",
        "          print('Invalid!')\n",
        "  except:\n",
        "    print('Name error: ' + str(np_Sativas.index(x)))\n",
        "    broken_Sativa.append(np_Sativas.index(x))"
      ],
      "metadata": {
        "colab": {
          "base_uri": "https://localhost:8080/"
        },
        "id": "xvT4A_Lg5d-Y",
        "outputId": "27949364-4848-473f-e54a-abf3a892c114"
      },
      "execution_count": null,
      "outputs": [
        {
          "output_type": "stream",
          "name": "stdout",
          "text": [
            "Name error: 1\n",
            "Name error: 2\n",
            "Nope!\n",
            "Nope!\n",
            "Nope!\n",
            "Nope!\n",
            "Nope!\n",
            "Nope!\n",
            "Nope!\n",
            "Nope!\n",
            "Nope!\n",
            "Name error: 26\n",
            "Nope!\n",
            "Nope!\n",
            "Nope!\n",
            "Name error: 32\n",
            "Nope!\n",
            "Nope!\n",
            "Nope!\n",
            "Nope!\n",
            "Nope!\n",
            "Nope!\n",
            "Nope!\n",
            "Nope!\n",
            "Nope!\n",
            "Nope!\n",
            "Nope!\n",
            "Nope!\n",
            "Nope!\n",
            "Name error: 73\n",
            "Nope!\n",
            "Nope!\n",
            "Name error: 85\n",
            "Nope!\n",
            "Nope!\n",
            "Nope!\n",
            "Nope!\n",
            "Nope!\n",
            "Nope!\n",
            "Name error: 97\n",
            "Nope!\n",
            "Nope!\n",
            "Nope!\n",
            "Nope!\n",
            "Nope!\n",
            "Nope!\n",
            "Name error: 107\n",
            "Name error: 108\n",
            "Name error: 109\n"
          ]
        }
      ]
    },
    {
      "cell_type": "code",
      "source": [
        "print(np_Sativa)"
      ],
      "metadata": {
        "colab": {
          "base_uri": "https://localhost:8080/"
        },
        "id": "0KlXIQuh5jiB",
        "outputId": "4d243256-969d-4eb4-9007-bc0648641527"
      },
      "execution_count": null,
      "outputs": [
        {
          "output_type": "stream",
          "name": "stdout",
          "text": [
            "['C1=CC(=C(C=C1C2=CC(=O)C3=C(C=C(C=C3O2)O)O)O)O', 'C1=CC(=CC=C1C(=O)O)O', 'C1=CC(=C(C=C1C(=O)O)O)O', 'COC1=C(C=C(C=C1)C(=O)O)OC', 'C1=CC(=CC(=C1)O)/C=C/C(=O)O', 'CSS/C=C/CS(=O)C', 'C=CCSSC[C@@H](C(=O)O)N', 'C1=CC=C(C=C1)C2=CC(=O)C3=CC=CC=C3O2', 'C1=CC=C(C(=C1)/C=C/C(=O)O)O', 'C1=CC(=C(C=C1O)O)C(=O)O', 'CCCSS(=O)CC=C', 'CC1=CC(=CS1)C', 'CC1(C2CCC(O1)(CC2)C)C', 'CC(=CCC/C(=C/C(OC)OC)/C)C', 'CCCS(=O)SCC=C', 'C1=CC(=CC=C1/C=C/C(=O)O)O', 'C1=CC(=C(C=C1/C=C/C(=O)O)O)O', 'CC1=CCC2CC1C2(C)C', 'CC1=CCC(CC1)C(=C)C', 'CC(=CCC/C(=C/CO)/C)C', 'C1[C@@H]([C@H](OC2=CC(=CC(=C21)O)O)C3=CC(=C(C=C3)O)O)O', 'C1[C@H]([C@H](OC2=CC(=CC(=C21)O)O)C3=CC(=C(C=C3)O)O)O', 'C1[C@H](OC2=CC(=CC(=C2C1=O)O)O)C3=CC=C(C=C3)O', 'C=CCSS(=O)CC=C', 'CCCSSCCC', 'CSSCC=C', 'C=CCS(=O)C[C@@H](C(=O)O)N', 'COC1=CC=C(C=C1)C2=COC3=CC(=CC(=C3C2=O)O)O', 'COC1=CC=C(C=C1)C2=COC3=C(C2=O)C=CC(=C3)O', 'C1=C(C=C(C(=C1O)O)O)C(=O)O', 'C1=CC(=C(C=C1O)C(=O)O)O', 'C1=CC(=C(C(=C1)O)O)O', 'COC1=CC(=CC(=C1O)OC)C(=O)O', 'COC1=C(C=CC(=C1)C(=O)O)O', 'COC1=C(C=CC(=C1)C=O)O', 'COC1=C(C=CC(=C1)/C=C/C(=O)O)O', 'COC1=CC(=CC(=C1O)OC)/C=C/C(=O)O', 'C1=CC(=CC=C1/C=C/C2=CC(=CC(=C2)O)O)O', 'CC1=CCC(=CC1)C(C)C', 'CC(=CCC/C(=C/CCC(C)(C=C)O)/C)C', 'C[C@H](/C=C/[C@H](C)C(C)C)[C@H]1CC[C@@H]2[C@@]1(CC[C@H]3C2=CC=C4[C@@]3(CC[C@@H](C4)O)C)C', 'C1=CC(=CC=C1C2=CC(=O)C3=C(C=C(C=C3O2)O)O)O', 'C1=CC(=CC=C1C2=C(C(=O)C3=C(C=C(C=C3O2)O)O)O)O', 'C1=CC(=C(C=C1C2=C(C(=O)C3=C(C=C(C=C3O2)O)O)O)O)O', 'C[Se]C[C@@H](C(=O)O)N', 'CC(=CCC/C(=C/C=O)/C)C', 'C=CCSC[C@@H](C(=O)O)N', 'CSCC=C', 'CCCSSC', 'CSC[C@@H](C(=O)O)NS', 'CS(=O)C[C@@H](C(=O)O)N', 'C=CCSS/C=C/CS(=O)CC=C', 'C=CCSS/C=C\\\\CS(=O)CC=C', 'CSC', 'C=CCO', 'CC1=CC=C(C=C1)S(=O)(=O)N[C@H](CCC(=O)N)C(=O)O', 'CCCCCC1=C(C(=O)C(=C(O1)C)OC)O', 'CC1=NC=C(C(=N1)N)CN(C=O)/C(=C(/CCO)\\\\SSCC=C)/C', 'C[Se]CCC(C(=O)O)N', 'C[Se]C[C@@H](C(=O)O)NC(=O)CC[C@@H](C(=O)O)N', 'C1=CC(=CC=C1C(=O)O)O', 'C/C=C\\\\SS(=O)C']\n"
          ]
        }
      ]
    },
    {
      "cell_type": "code",
      "source": [
        "print(names_s)"
      ],
      "metadata": {
        "colab": {
          "base_uri": "https://localhost:8080/"
        },
        "id": "NGu1zDZkJrtY",
        "outputId": "df396864-68a4-450e-9624-992a514bcc26"
      },
      "execution_count": null,
      "outputs": [
        {
          "output_type": "stream",
          "name": "stdout",
          "text": [
            "[\"5,7,3',4'-Tetrahydroxyflavone\", '4-hydroxybenzoic acid', '3,4-Dihydroxybenzoic acid', '3,4-dimethoxybenzoic acid', '3-Hydroxycinnamic acid', 'Methyl 3-(methylsulfinyl)-1-propenyl disulfide', '3-(Prop-2-en-1-yldisulfanyl)-L-alanine', '2-Phenylchromone', '2-Hydroxycinnamic acid', '2,4-Dihydroxybenzoic acid', 'S-Propyl 2-propene-1-sulfinothioate', '2,4-Dimethylthiophene', '1,8-Cineol', '1,1-Dimethoxy-3,7-dimethylocta-2,6-diene', 'S-Allyl 1-propanesulfinothioate', 'p-Coumaric acid', 'Caffeic acid', 'alpha-Pinene', 'Limonene', '(E)-geraniol', '(+)-Catechin', '(-)-Epicatechin', 'Naringenin', 'Allicin', 'Dipropyl disulfide', 'Methyl allyl disulfide', 'Alliin', 'Biochanin A', 'Formononetin', 'Gallic acid', 'Gentisic acid', 'Pyrogallol', 'Syringic acid', 'Vanillic acid', 'Vanillin', 'Ferulic acid', 'Sinapic acid', 'Resveratrol', 'gamma-Terpinene', 'Nerolidol', 'Ergosterol', 'Apigenin', 'Kaempferol', 'Quercetin', 'Se-Methylselenocysteine', 'Citral', 'S-allyl-L-cysteine', 'Methyl allyl sulfide', 'Methyl propyl disulfide', 'S-Methyl mercapto-L-cysteine', 'S-Methyl-L-cysteine sulfoxide', 'Ajoene', '(Z)-Ajoene', 'Dimethyl sulfide', 'Allyl alcohol', 'Allylmethyltrisulfide', 'Allixin', 'Allithiamine', 'Selenomethionine', 'Methylseleno carboxyethylglutamine', 'Hydroxybenzoic acid', 'S-1-Propenyl methanesulfinothioate']\n"
          ]
        }
      ]
    },
    {
      "cell_type": "code",
      "source": [
        "file_path = '/content/drive/MyDrive/Network Pharmacology of Tawar/NP_Cepa.txt'  # Replace 'example.txt' with the path to your text file\n",
        "np_Cepas = read_file_lines(file_path)\n",
        "np_Cepa = []\n",
        "names_c = []\n",
        "broken_Cepa = []\n",
        "for x in np_Cepas:\n",
        "  try:\n",
        "    comps = get_compounds(str(x), 'name')\n",
        "    compo = comps[0].isomeric_smiles\n",
        "    molecule = Chem.MolFromSmiles(comps[0].isomeric_smiles)\n",
        "    if molecule is not None:\n",
        "        veber_pass = veber_rule(molecule)\n",
        "        egan_pass = egan_rule(molecule)\n",
        "        check = calculate_logkp(compo)\n",
        "        if veber_pass and egan_rule and check<-2.5:\n",
        "          tani = []\n",
        "          for z in smiles:\n",
        "            similar = tanimoto(compo, z)\n",
        "            tani.append(similar)\n",
        "          if max(tani) > 0.2:\n",
        "            np_Cepa.append(compo)\n",
        "            names_c.append(x)\n",
        "          else:\n",
        "            print(\"Nope!\")\n",
        "        else:\n",
        "            print('Nope!')\n",
        "    else:\n",
        "          print('Invalid!')\n",
        "  except:\n",
        "    print('Name error: ' + str(np_Cepas.index(x)))\n",
        "    broken_Cepa.append(np_Cepas.index(x))"
      ],
      "metadata": {
        "colab": {
          "base_uri": "https://localhost:8080/"
        },
        "id": "7QcLlQC35q1b",
        "outputId": "c43eda91-c478-45be-e27d-b2a063ca302d"
      },
      "execution_count": null,
      "outputs": [
        {
          "output_type": "stream",
          "name": "stdout",
          "text": [
            "Nope!\n",
            "Nope!\n",
            "Nope!\n",
            "Nope!\n",
            "Nope!\n",
            "Nope!\n",
            "Nope!\n",
            "Name error: 7\n",
            "Nope!\n",
            "Nope!\n",
            "Nope!\n",
            "Nope!\n",
            "Name error: 23\n",
            "Name error: 24\n",
            "Nope!\n",
            "Nope!\n",
            "Nope!\n",
            "Nope!\n",
            "Nope!\n",
            "Nope!\n",
            "Nope!\n",
            "Name error: 40\n",
            "Nope!\n",
            "Nope!\n",
            "Nope!\n",
            "Nope!\n",
            "Name error: 46\n",
            "Nope!\n",
            "Nope!\n",
            "Nope!\n",
            "Nope!\n",
            "Name error: 56\n",
            "Name error: 61\n",
            "Nope!\n",
            "Name error: 64\n",
            "Name error: 66\n",
            "Nope!\n",
            "Nope!\n",
            "Nope!\n",
            "Nope!\n",
            "Nope!\n",
            "Nope!\n",
            "Nope!\n",
            "Nope!\n",
            "Nope!\n",
            "Name error: 91\n",
            "Name error: 94\n",
            "Name error: 98\n",
            "Nope!\n",
            "Nope!\n",
            "Nope!\n",
            "Name error: 111\n",
            "Nope!\n",
            "Nope!\n",
            "Nope!\n",
            "Nope!\n",
            "Name error: 122\n",
            "Nope!\n",
            "Nope!\n",
            "Nope!\n",
            "Nope!\n",
            "Nope!\n",
            "Name error: 128\n",
            "Nope!\n",
            "Name error: 132\n",
            "Nope!\n",
            "Nope!\n",
            "Nope!\n",
            "Name error: 137\n",
            "Name error: 138\n",
            "Name error: 142\n",
            "Nope!\n",
            "Nope!\n",
            "Nope!\n",
            "Nope!\n",
            "Nope!\n",
            "Nope!\n",
            "Nope!\n",
            "Nope!\n",
            "Name error: 170\n",
            "Nope!\n",
            "Nope!\n",
            "Nope!\n",
            "Name error: 175\n",
            "Nope!\n",
            "Name error: 177\n",
            "Name error: 180\n",
            "Name error: 184\n",
            "Nope!\n",
            "Name error: 188\n",
            "Nope!\n",
            "Nope!\n",
            "Name error: 191\n",
            "Name error: 193\n",
            "Nope!\n",
            "Nope!\n",
            "Name error: 212\n",
            "Name error: 213\n",
            "Name error: 214\n",
            "Name error: 215\n",
            "Nope!\n",
            "Name error: 228\n",
            "Name error: 229\n",
            "Name error: 230\n"
          ]
        }
      ]
    },
    {
      "cell_type": "code",
      "source": [
        "print(np_Cepa)"
      ],
      "metadata": {
        "colab": {
          "base_uri": "https://localhost:8080/"
        },
        "id": "L4RX6RtC53Qx",
        "outputId": "24a61a36-04f0-454c-8d6e-fc53be4921f0"
      },
      "execution_count": null,
      "outputs": [
        {
          "output_type": "stream",
          "name": "stdout",
          "text": [
            "['CCCSS/C=C/C', 'C/C=C(\\\\C)/C=O', 'COC1=C(C=C(C=C1)C2=C(C(=O)C3=C(C=C(C=C3O2)O)O)O)O', 'COC1=CC(=CC(=C1O)OC)C2C3COC(C3CO2)C4=CC(=C(C(=C4)OC)O)OC', 'COC1=CC(=CC(=C1O)OC)/C=C/C(=O)O', 'C[Se]C[C@@H](C(=O)O)N', 'CCCSC(=O)C', 'CC(=O)SC', 'CS(=O)C[C@@H](C(=O)O)N', 'C/C=C/S(=O)C[C@@H](C(=O)O)N', 'C/C=C\\\\SS(=O)C', 'C1=CC(=C(C=C1C2=C(C(=O)C3=C(C=C(C=C3O2)O)O)O)O)O', 'CCCS(=O)C[C@@H](C(=O)[O-])[NH3+]', 'CCCSSSC=CC', 'CCCS', 'CCC=S=O', 'CC(C)S', 'CCCS', 'CC(=O)[C@H]1CC[C@@H]2[C@@]1(CC[C@H]3[C@H]2CCC4=CC(=O)CC[C@]34C)C', 'CCCCC=O', 'C[C@]12CC[C@@H](C([C@@H]1CC[C@@]3([C@@H]2CC=C4[C@]3(CC[C@@]5([C@H]4CC(CC5)(C)C)C(=O)O)C)C)(C)C)O', 'CCCCCCCCCCCCC', 'COC(=O)[C@@H]1CCC(=O)N1', 'CCCSC', 'CCCSSC', 'CSCC=C', 'CSSCC=C', 'COC(=O)/C=C/C1=CC=C(C=C1)O', 'CC=CSSC', 'C(C(C(=O)O)O)C(=O)O', 'C1=CC(=CC(=C1)O)CCC2=CC=C(C=C2)O', 'C1=CC=C(C=C1)C[C@@H](C(=O)O)N', 'C(C[C@@H](C(=O)O)N)CNC(=O)N', 'CC[C@@H](C(=O)O)N', 'C1=CC(=CC=C1C2=C(C(=O)C3=C(C=C(C=C3O2)O)O)O)O', 'CCCSSC(C)C', 'C/C=C/S(=O)C[C@@H](C(=O)O)N', 'CCCCCC=O', 'C[C@@]12CCC[C@@]3([C@@H]1[C@@H]([C@]45[C@H]3CC[C@H](C4)C(=C)C5)C(=O)O)OC2=O', 'C[C@]12[C@H]3[C@@H]([C@@]45CC(=C)[C@@](C4)(CC[C@H]5[C@@]3(C[C@@H]([C@@H]1O)O)OC2=O)O)C(=O)O', 'C[C@@]12C[C@H](C[C@@]3([C@@H]1[C@@H]([C@]45[C@H]3CC[C@H](C4)C(=C)C5)C(=O)O)OC2=O)O', 'C[C@@]12CCC[C@@]3([C@@H]1[C@@H]([C@]45[C@H]3CC[C@](C4)(C(=C)C5)O)C(=O)O)COC2=O', 'C[C@@]12[C@H](CC[C@@]3([C@@H]1[C@@H]([C@]45[C@H]3CC[C@H](C4)C(=C)C5)C(=O)O)OC2=O)O', 'C[C@]12[C@H]3[C@@H]([C@@]45C[C@@H](CC[C@H]4[C@@]3(C[C@@H]([C@@H]1O)O)OC2=O)C(=C)C5)C(=O)O', 'C[C@]1(CCC[C@@]2([C@@H]1[C@@H]([C@]34[C@H]2CC[C@H](C3)C(=C)C4)C(=O)O)C=O)C(=O)O', 'C[C@@]12CCC[C@@]3([C@@H]1[C@@H]([C@]45[C@H]3CC[C@](C4)(C(=C)C5)O)C(=O)O)OC2=O', 'C[C@@]12CCC[C@@]([C@H]1[C@@H]([C@]34[C@H]2CC[C@H](C3)C(=C)C4)C(=O)O)(C)C(=O)O', 'C[C@@]12[C@H](CC[C@@]3([C@@H]1[C@@H]([C@]45[C@H]3CC[C@](C4)(C(=C)C5)O)C(=O)O)OC2=O)O', 'C1CC(=O)OC1', 'C1=C(C=C(C(=C1O)O)O)C(=O)O', 'C1=COC(=C1)CO', 'COC1=C(C=CC(=C1)/C=C/C(=O)OC)O', 'COC1=C(C=CC(=C1)/C=C/C(=O)O)O', 'CCCSSCC', 'C([C@H]([C@H](C(=O)O)O)O)O', 'CCCSSSCCC', 'CCCSSCCC', 'CSC', 'C1=CC(=C(C=C1[C@@H]2[C@H](C(=O)C3=C(C=C(C=C3O2)O)O)O)O)O', 'CCOC(=O)C1=CC=CC=C1C(=O)OCC', 'CCCCOC(=O)C1=CC=CC=C1C(=O)OCCCC', 'C(C=O)[C@@H]([C@@H](CO)O)O', 'C1=C(C=C(C(=C1O)O)O)C2=[O+]C3=CC(=CC(=C3C=C2O)O)O.[Cl-]', 'C([C@@H]([C@@H]1C(=O)C(=O)C(=O)O1)O)O', 'CCCCCCCCCC=O', 'CC1CS(=O)CC(N1)C(=O)O', 'C1=CC(=C(C=C1C2=[O+]C3=CC(=CC(=C3C=C2O)O)O)O)O', 'C1[C@H](O[C@H]([C@@H]1O)N2C=NC3=C(N=CN=C32)N)CO', 'CCCSS/C=C\\\\C', 'CCCCCCCCC1C(=O)C=C(O1)C', 'CC1COC2(CC1O)C(C3C(O2)CC4C3(CCC5C4CC=C6C5(C(CC(C6)O)O)C)C)C', 'CCCCSSCCC', 'CCCCS(=O)C[C@@H](C(=O)[O-])[NH3+]', 'C1=CC=C(C=C1)OCCO', 'C1=CC=C2C(=C1)N=CS2', 'C1=CC=C(C=C1)CC=O', 'CC1=CC=C(C=C1)S(=O)(=O)N[C@H](CCC(=O)N)C(=O)O', 'CCCSCC=C', 'CCCSSCC=C', 'C=CCS', 'C=CCS(=O)C[C@@H](C(=O)O)N', 'C=CCSS(=O)CC=C', 'CC(=O)CO', 'C1=C(C=C2C(=C1O)C(=C3C(=CC(=O)C=C3O2)O)C(=O)O)O', 'C1=C(C=C2C(=C1O)C(=C3C(=CC(=O)C=C3O2)O)C(=O)O)O', 'CCCSC(CC)SSCCC', 'CC1=CC=C(O1)C=O', 'CC1=CN=CS1', 'C1=C(OC(=C1)C=O)CO', 'COC1=C(C=CC(=C1)C=C)O', 'CCCCCCCCC1CC(=O)CC1=O', 'CCCCC(C)CCC(C)CCC', 'CC(C(=C)C)O', 'CC(C)C=C', 'CC(C)C1=CC=CC(=C1)C=O', 'CCC(C(=O)C)O', 'CC(C(=O)C)O', 'C[C@@]12[C@@H](CC[C@@]3([C@@H]1[C@@H]([C@]45[C@H]3CC[C@H](C4)C(=C)C5)C(=O)O)OC2=O)O', 'CCCS(=O)C[C@@H](C(=O)O)N', 'C1=CC(=C(C=C1C(=O)O)O)O', 'CC(=O)C1=CC(=C(C=C1)O)OC', 'C1=CC=C(C=C1)CCO', 'CSCC=O', 'CC1=NC=CN=C1', 'CCC(C(C)C)S', 'CC1=NCCS1', 'CC/C=C(\\\\C)/C=O', 'CCC(C)(C)O', 'CCCCCCC1C(=O)C=C(O1)C', 'CCCCCC(=O)C', 'CCCCC(CC)CO', 'CCCCCC1CC=CC(=O)O1', 'CCCCOCCO', 'CC(=O)C1=NC=CS1', 'CC(=O)C1=CC=CO1', 'CC(=O)C1=CC=CN1', 'CC1=CC(=CS1)C', 'CC1=CC(=NC2=CC=CC=C12)C', 'CCC(=O)C(=O)C', 'CCCCCC(=O)C(=O)C', 'CC1=NC=CN=C1C', 'CCCSSSC', 'CCC(=O)C1=CC=CO1', 'C1=C(C=C(C=C1O)O)O', 'C1CC(=O)C(=O)C1', 'CC/C=C(\\\\C)/C=O', 'CC/C=C\\\\C[C@@H]1[C@H](CCC1=O)CC(=O)O']\n"
          ]
        }
      ]
    },
    {
      "cell_type": "code",
      "source": [
        "print(names_c)"
      ],
      "metadata": {
        "colab": {
          "base_uri": "https://localhost:8080/"
        },
        "id": "89KlyvGbKrHD",
        "outputId": "58133aa1-7f02-4e03-c01e-6af017103eb7"
      },
      "execution_count": null,
      "outputs": [
        {
          "output_type": "stream",
          "name": "stdout",
          "text": [
            "['trans-1-Propenyl propyl disulfide', 'Tiglaldehyde', 'Tamarixetin', 'Syringaresinol', 'Sinapic acid', 'Se-Methylselenocysteine', 'S-Propyl thioacetate', 'S-Methyl-thioacetate', 'S-Methyl-L-cysteine sulfoxide', 'S-[(E)-Prop-1-enyl]-L-cysteine S-oxide', 'S-1-Propenyl methanesulfinothioate', 'Quercetin', 'Propiin', 'Propenyl propyl trisulfide', 'Propanethiol', 'Propanethial S-oxide', 'Propane-2-thiol', 'Propane-1-thiol', 'Progesterone', 'Pentanal', 'Oleanolic acid', 'n-Tridecane', 'Methyl pyroglutamate', 'Methyl propyl sulfide', 'Methyl propyl disulfide', 'Methyl allyl sulfide', 'Methyl allyl disulfide', 'Methyl 4-hydroxycinnamate', 'Methyl 1-propenyl disulfide', 'Malic acid', 'Lunularin', 'L-Phenylalanine', 'L-Citrulline', 'L-2-Aminobutyric acid', 'Kaempferol', 'Isopropyl propyl disulfide', 'Isoalliin', 'Hexanal', 'Gibberellin A9', 'Gibberellin A8', 'Gibberellin A51', 'Gibberellin A44', 'Gibberellin A4', 'Gibberellin A34', 'Gibberellin A24', 'Gibberellin A20', 'Gibberellin A12', 'Gibberellin A1', 'gamma Butyrolactone', 'Gallic acid', 'Furfuryl alcohol', 'Ferulic acid methyl ester', 'Ferulic acid', 'Ethyl propyl disulfide', 'Erythronic acid', 'Dipropyl trisulfide', 'Dipropyl disulfide', 'Dimethyl sulfide', 'Dihydroquercetin', 'DIethyl phthalate', 'Dibutyl phthalate', 'Deoxyribose', 'Delphinidin chloride', 'Dehydroascorbate', 'Decanal', 'Cycloalliin', 'Cyanidin', 'Cordycepin', 'cis-1-Propenyl propyl disulfide', 'Cepanone', 'Cepagenin', 'Butyl propyl disulfide', 'Butiin', 'beta-Hydroxyethyl phenyl ether', 'Benzothiazole', 'Benzeneacetaldehyde', 'Allylmethyltrisulfide', 'Allyl propyl sulfide', 'Allyl propyl disulfide', 'Allyl mercaptan', 'Alliin', 'Allicin', 'Acetol', '9-Carboxy-1,3,6,8-tetrahydroxyxanthylium(1+)', '9-Carboxy-1,3,6,8-tetrahydroxyxanthylium(1+)', '6-Ethyl-4,5,7-trithiadecane', '5-Methylfurfural', '5-Methyl-1,3-thiazole', '5-Hydroxymethyl-2-furaldehyde', '4-Vinyl guaiacol', '4-Octyl-1,3-cyclopentanedione', '4,7-Dimethylundecane', '3-Methyl-3-buten-2-ol', '3-Methyl-1-butene', '3-Isopropylbenzaldehyde', '3-Hydroxypentan-2-one', '3-hydroxy-2-Butanone', '3-epi-Gibberellin A4', '3-(Propylsulphinyl)-L-alanine', '3,4-Dihydroxybenzoic acid', \"3'-Methoxy-4'-hydroxyacetophenone\", '2-Phenylethanol', '2-Methylthioacetaldehyde', '2-Methylpyrazine', '2-Methyl-3-pentanethiol', '2-Methyl-2-thiazoline', '2-Methyl-2-pentenal', '2-Methyl-2-butanol', '2-Hexyl-5-methyl-3(2H)-furanone', '2-Heptanone', '2-Ethyl-1-hexanol', '2-Decen-5-olide', '2-Butoxy ethanol', '2-Acetylthiazole', '2-Acetylfuran', '2-Acetyl pyrrole', '2,4-Dimethylthiophene', '2,4-Dimethylquinoline', '2,3-Pentanedione', '2,3-Octanedione', '2,3-Dimethylpyrazine', '2,3,4-Trithiaheptane', '1-(2-Furyl)-1-propanone', '1,3,5-Trihydroxybenzene', '1,2-Cyclopentanedione', '(E)-2-Methyl-2-pentenal', '(-)-Jasmonic acid']\n"
          ]
        }
      ]
    },
    {
      "cell_type": "code",
      "source": [
        "file_path = '/content/drive/MyDrive/Network Pharmacology of Tawar/NP_Kaempfer.txt'  # Replace 'example.txt' with the path to your text file\n",
        "np_Kaempfers = read_file_lines(file_path)\n",
        "np_Kaempfer = []\n",
        "names_k = []\n",
        "broken_Kaempfer = []\n",
        "for x in np_Kaempfers:\n",
        "  try:\n",
        "    comps = get_compounds(str(x), 'name')\n",
        "    compo = comps[0].isomeric_smiles\n",
        "    molecule = Chem.MolFromSmiles(comps[0].isomeric_smiles)\n",
        "    if molecule is not None:\n",
        "        veber_pass = veber_rule(molecule)\n",
        "        egan_pass = egan_rule(molecule)\n",
        "        check = calculate_logkp(compo)\n",
        "        if veber_pass and egan_rule and check<-2.5:\n",
        "          tani = []\n",
        "          for z in smiles:\n",
        "            similar = tanimoto(compo, z)\n",
        "            tani.append(similar)\n",
        "          if max(tani) > 0.2:\n",
        "            np_Kaempfer.append(compo)\n",
        "            names_k.append(x)\n",
        "          else:\n",
        "            print(\"Nope!\")\n",
        "        else:\n",
        "            print('Nope!')\n",
        "    else:\n",
        "          print('Invalid!')\n",
        "  except:\n",
        "    print('Name error: ' + str(np_Kaempfers.index(x)))\n",
        "    broken_Kaempfer.append(np_Kaempfers.index(x))"
      ],
      "metadata": {
        "id": "YTlZ5vP056io"
      },
      "execution_count": null,
      "outputs": []
    },
    {
      "cell_type": "code",
      "source": [
        "print(np_Kaempfer)"
      ],
      "metadata": {
        "colab": {
          "base_uri": "https://localhost:8080/"
        },
        "id": "zjyyV7eU6C7s",
        "outputId": "191e4d49-3ed2-4182-a4d6-a08eafa4f084"
      },
      "execution_count": null,
      "outputs": [
        {
          "output_type": "stream",
          "name": "stdout",
          "text": [
            "['COC1=CC=C(C=C1)C2=C(C(=O)C3=C(C=C(C=C3O2)O)O)O', 'CCOC(=O)/C=C/C1=CC=C(C=C1)OC', 'C1=CC(=CC=C1C2=C(C(=O)C3=C(C=C(C=C3O2)O)O)O)O', 'CC(C)C1CCC(=C)C=C1', 'CC1=CC(=O)C2C(C1)C2(C)C', 'COC1=CC=C(C=C1)C=C']\n"
          ]
        }
      ]
    },
    {
      "cell_type": "code",
      "source": [
        "print(names_k)"
      ],
      "metadata": {
        "colab": {
          "base_uri": "https://localhost:8080/"
        },
        "id": "0D-3kdErKunL",
        "outputId": "28e01a4b-2a07-4981-f4e8-04239605fb53"
      },
      "execution_count": null,
      "outputs": [
        {
          "output_type": "stream",
          "name": "stdout",
          "text": [
            "['Kaempferide', 'p-Methoxycinnamic acid ethyl ester', 'Kaempferol', 'beta-Phellandrene', 'Car-3-en-5-one', 'p-Methoxystyrene']\n"
          ]
        }
      ]
    },
    {
      "cell_type": "code",
      "source": [
        "df_rheu = pd.read_csv('/content/drive/MyDrive/Network Pharmacology of Tawar/Rheumatoid_Data.csv', delimiter = ';')"
      ],
      "metadata": {
        "id": "O75eYIX8TAFD"
      },
      "execution_count": null,
      "outputs": []
    },
    {
      "cell_type": "code",
      "source": [
        "df_rheu.head()"
      ],
      "metadata": {
        "colab": {
          "base_uri": "https://localhost:8080/",
          "height": 851
        },
        "id": "Yp2H3FbQvycB",
        "outputId": "ad497af2-d805-4034-e0fb-d883f72ac3b5"
      },
      "execution_count": null,
      "outputs": [
        {
          "output_type": "execute_result",
          "data": {
            "text/plain": [
              "             Chemical Name Chemical ID     CAS RN           Disease Name  \\\n",
              "0                   Oxygen     D010100  7782-44-7  Arthritis, Rheumatoid   \n",
              "1        Freund's Adjuvant     D005620  9007-81-2  Arthritis, Rheumatoid   \n",
              "2  Tobacco Smoke Pollution     D014028        NaN  Arthritis, Rheumatoid   \n",
              "3           Air Pollutants     D000393        NaN  Arthritis, Rheumatoid   \n",
              "4             Dinoprostone     D015232   363-24-6  Arthritis, Rheumatoid   \n",
              "\n",
              "     Disease ID   Direct Evidence  \\\n",
              "0  MESH:D001172  marker/mechanism   \n",
              "1  MESH:D001172  marker/mechanism   \n",
              "2  MESH:D001172  marker/mechanism   \n",
              "3  MESH:D001172  marker/mechanism   \n",
              "4  MESH:D001172  marker/mechanism   \n",
              "\n",
              "                                   Inference Network Inference Score  \\\n",
              "0  ABCB1|ABCC2|ABCC4|ABCC5|ABCG2|ACKR3|ADIPOQ|ADO...          107.24   \n",
              "1  ANXA3|BDKRB2|BMP4|CAT|CCN1|CCN2|COL2A1|CP|CRP|...           88.54   \n",
              "2  ABCB1|ABCC2|ABCC3|ABCC4|ABCC5|ABCG2|ACKR3|ADIP...           84.02   \n",
              "3  ABCC2|ABCC3|ABCC4|ABCG2|ACKR3|ADIPOQ|AFF3|AGER...           76.93   \n",
              "4  ABCC4|CAT|CCN2|CCR6|COL2A1|CP|CSF2|CXCL8|CXCR4...           68.89   \n",
              "\n",
              "  Reference Count Unnamed: 9 Unnamed: 10 Unnamed: 11 Unnamed: 12 Unnamed: 13  \\\n",
              "0              45        NaN         NaN         NaN         NaN         NaN   \n",
              "1              29        NaN         NaN         NaN         NaN         NaN   \n",
              "2              50        NaN         NaN         NaN         NaN         NaN   \n",
              "3              47        NaN         NaN         NaN         NaN         NaN   \n",
              "4              27        NaN         NaN         NaN         NaN         NaN   \n",
              "\n",
              "  Unnamed: 14 Unnamed: 15  Unnamed: 16 Unnamed: 17  Unnamed: 18  Unnamed: 19  \n",
              "0         NaN         NaN          NaN         NaN          NaN          NaN  \n",
              "1         NaN         NaN          NaN         NaN          NaN          NaN  \n",
              "2         NaN         NaN          NaN         NaN          NaN          NaN  \n",
              "3         NaN         NaN          NaN         NaN          NaN          NaN  \n",
              "4         NaN         NaN          NaN         NaN          NaN          NaN  "
            ],
            "text/html": [
              "\n",
              "  <div id=\"df-e921e589-e462-4010-b506-63dd0df60eb7\" class=\"colab-df-container\">\n",
              "    <div>\n",
              "<style scoped>\n",
              "    .dataframe tbody tr th:only-of-type {\n",
              "        vertical-align: middle;\n",
              "    }\n",
              "\n",
              "    .dataframe tbody tr th {\n",
              "        vertical-align: top;\n",
              "    }\n",
              "\n",
              "    .dataframe thead th {\n",
              "        text-align: right;\n",
              "    }\n",
              "</style>\n",
              "<table border=\"1\" class=\"dataframe\">\n",
              "  <thead>\n",
              "    <tr style=\"text-align: right;\">\n",
              "      <th></th>\n",
              "      <th>Chemical Name</th>\n",
              "      <th>Chemical ID</th>\n",
              "      <th>CAS RN</th>\n",
              "      <th>Disease Name</th>\n",
              "      <th>Disease ID</th>\n",
              "      <th>Direct Evidence</th>\n",
              "      <th>Inference Network</th>\n",
              "      <th>Inference Score</th>\n",
              "      <th>Reference Count</th>\n",
              "      <th>Unnamed: 9</th>\n",
              "      <th>Unnamed: 10</th>\n",
              "      <th>Unnamed: 11</th>\n",
              "      <th>Unnamed: 12</th>\n",
              "      <th>Unnamed: 13</th>\n",
              "      <th>Unnamed: 14</th>\n",
              "      <th>Unnamed: 15</th>\n",
              "      <th>Unnamed: 16</th>\n",
              "      <th>Unnamed: 17</th>\n",
              "      <th>Unnamed: 18</th>\n",
              "      <th>Unnamed: 19</th>\n",
              "    </tr>\n",
              "  </thead>\n",
              "  <tbody>\n",
              "    <tr>\n",
              "      <th>0</th>\n",
              "      <td>Oxygen</td>\n",
              "      <td>D010100</td>\n",
              "      <td>7782-44-7</td>\n",
              "      <td>Arthritis, Rheumatoid</td>\n",
              "      <td>MESH:D001172</td>\n",
              "      <td>marker/mechanism</td>\n",
              "      <td>ABCB1|ABCC2|ABCC4|ABCC5|ABCG2|ACKR3|ADIPOQ|ADO...</td>\n",
              "      <td>107.24</td>\n",
              "      <td>45</td>\n",
              "      <td>NaN</td>\n",
              "      <td>NaN</td>\n",
              "      <td>NaN</td>\n",
              "      <td>NaN</td>\n",
              "      <td>NaN</td>\n",
              "      <td>NaN</td>\n",
              "      <td>NaN</td>\n",
              "      <td>NaN</td>\n",
              "      <td>NaN</td>\n",
              "      <td>NaN</td>\n",
              "      <td>NaN</td>\n",
              "    </tr>\n",
              "    <tr>\n",
              "      <th>1</th>\n",
              "      <td>Freund's Adjuvant</td>\n",
              "      <td>D005620</td>\n",
              "      <td>9007-81-2</td>\n",
              "      <td>Arthritis, Rheumatoid</td>\n",
              "      <td>MESH:D001172</td>\n",
              "      <td>marker/mechanism</td>\n",
              "      <td>ANXA3|BDKRB2|BMP4|CAT|CCN1|CCN2|COL2A1|CP|CRP|...</td>\n",
              "      <td>88.54</td>\n",
              "      <td>29</td>\n",
              "      <td>NaN</td>\n",
              "      <td>NaN</td>\n",
              "      <td>NaN</td>\n",
              "      <td>NaN</td>\n",
              "      <td>NaN</td>\n",
              "      <td>NaN</td>\n",
              "      <td>NaN</td>\n",
              "      <td>NaN</td>\n",
              "      <td>NaN</td>\n",
              "      <td>NaN</td>\n",
              "      <td>NaN</td>\n",
              "    </tr>\n",
              "    <tr>\n",
              "      <th>2</th>\n",
              "      <td>Tobacco Smoke Pollution</td>\n",
              "      <td>D014028</td>\n",
              "      <td>NaN</td>\n",
              "      <td>Arthritis, Rheumatoid</td>\n",
              "      <td>MESH:D001172</td>\n",
              "      <td>marker/mechanism</td>\n",
              "      <td>ABCB1|ABCC2|ABCC3|ABCC4|ABCC5|ABCG2|ACKR3|ADIP...</td>\n",
              "      <td>84.02</td>\n",
              "      <td>50</td>\n",
              "      <td>NaN</td>\n",
              "      <td>NaN</td>\n",
              "      <td>NaN</td>\n",
              "      <td>NaN</td>\n",
              "      <td>NaN</td>\n",
              "      <td>NaN</td>\n",
              "      <td>NaN</td>\n",
              "      <td>NaN</td>\n",
              "      <td>NaN</td>\n",
              "      <td>NaN</td>\n",
              "      <td>NaN</td>\n",
              "    </tr>\n",
              "    <tr>\n",
              "      <th>3</th>\n",
              "      <td>Air Pollutants</td>\n",
              "      <td>D000393</td>\n",
              "      <td>NaN</td>\n",
              "      <td>Arthritis, Rheumatoid</td>\n",
              "      <td>MESH:D001172</td>\n",
              "      <td>marker/mechanism</td>\n",
              "      <td>ABCC2|ABCC3|ABCC4|ABCG2|ACKR3|ADIPOQ|AFF3|AGER...</td>\n",
              "      <td>76.93</td>\n",
              "      <td>47</td>\n",
              "      <td>NaN</td>\n",
              "      <td>NaN</td>\n",
              "      <td>NaN</td>\n",
              "      <td>NaN</td>\n",
              "      <td>NaN</td>\n",
              "      <td>NaN</td>\n",
              "      <td>NaN</td>\n",
              "      <td>NaN</td>\n",
              "      <td>NaN</td>\n",
              "      <td>NaN</td>\n",
              "      <td>NaN</td>\n",
              "    </tr>\n",
              "    <tr>\n",
              "      <th>4</th>\n",
              "      <td>Dinoprostone</td>\n",
              "      <td>D015232</td>\n",
              "      <td>363-24-6</td>\n",
              "      <td>Arthritis, Rheumatoid</td>\n",
              "      <td>MESH:D001172</td>\n",
              "      <td>marker/mechanism</td>\n",
              "      <td>ABCC4|CAT|CCN2|CCR6|COL2A1|CP|CSF2|CXCL8|CXCR4...</td>\n",
              "      <td>68.89</td>\n",
              "      <td>27</td>\n",
              "      <td>NaN</td>\n",
              "      <td>NaN</td>\n",
              "      <td>NaN</td>\n",
              "      <td>NaN</td>\n",
              "      <td>NaN</td>\n",
              "      <td>NaN</td>\n",
              "      <td>NaN</td>\n",
              "      <td>NaN</td>\n",
              "      <td>NaN</td>\n",
              "      <td>NaN</td>\n",
              "      <td>NaN</td>\n",
              "    </tr>\n",
              "  </tbody>\n",
              "</table>\n",
              "</div>\n",
              "    <div class=\"colab-df-buttons\">\n",
              "\n",
              "  <div class=\"colab-df-container\">\n",
              "    <button class=\"colab-df-convert\" onclick=\"convertToInteractive('df-e921e589-e462-4010-b506-63dd0df60eb7')\"\n",
              "            title=\"Convert this dataframe to an interactive table.\"\n",
              "            style=\"display:none;\">\n",
              "\n",
              "  <svg xmlns=\"http://www.w3.org/2000/svg\" height=\"24px\" viewBox=\"0 -960 960 960\">\n",
              "    <path d=\"M120-120v-720h720v720H120Zm60-500h600v-160H180v160Zm220 220h160v-160H400v160Zm0 220h160v-160H400v160ZM180-400h160v-160H180v160Zm440 0h160v-160H620v160ZM180-180h160v-160H180v160Zm440 0h160v-160H620v160Z\"/>\n",
              "  </svg>\n",
              "    </button>\n",
              "\n",
              "  <style>\n",
              "    .colab-df-container {\n",
              "      display:flex;\n",
              "      gap: 12px;\n",
              "    }\n",
              "\n",
              "    .colab-df-convert {\n",
              "      background-color: #E8F0FE;\n",
              "      border: none;\n",
              "      border-radius: 50%;\n",
              "      cursor: pointer;\n",
              "      display: none;\n",
              "      fill: #1967D2;\n",
              "      height: 32px;\n",
              "      padding: 0 0 0 0;\n",
              "      width: 32px;\n",
              "    }\n",
              "\n",
              "    .colab-df-convert:hover {\n",
              "      background-color: #E2EBFA;\n",
              "      box-shadow: 0px 1px 2px rgba(60, 64, 67, 0.3), 0px 1px 3px 1px rgba(60, 64, 67, 0.15);\n",
              "      fill: #174EA6;\n",
              "    }\n",
              "\n",
              "    .colab-df-buttons div {\n",
              "      margin-bottom: 4px;\n",
              "    }\n",
              "\n",
              "    [theme=dark] .colab-df-convert {\n",
              "      background-color: #3B4455;\n",
              "      fill: #D2E3FC;\n",
              "    }\n",
              "\n",
              "    [theme=dark] .colab-df-convert:hover {\n",
              "      background-color: #434B5C;\n",
              "      box-shadow: 0px 1px 3px 1px rgba(0, 0, 0, 0.15);\n",
              "      filter: drop-shadow(0px 1px 2px rgba(0, 0, 0, 0.3));\n",
              "      fill: #FFFFFF;\n",
              "    }\n",
              "  </style>\n",
              "\n",
              "    <script>\n",
              "      const buttonEl =\n",
              "        document.querySelector('#df-e921e589-e462-4010-b506-63dd0df60eb7 button.colab-df-convert');\n",
              "      buttonEl.style.display =\n",
              "        google.colab.kernel.accessAllowed ? 'block' : 'none';\n",
              "\n",
              "      async function convertToInteractive(key) {\n",
              "        const element = document.querySelector('#df-e921e589-e462-4010-b506-63dd0df60eb7');\n",
              "        const dataTable =\n",
              "          await google.colab.kernel.invokeFunction('convertToInteractive',\n",
              "                                                    [key], {});\n",
              "        if (!dataTable) return;\n",
              "\n",
              "        const docLinkHtml = 'Like what you see? Visit the ' +\n",
              "          '<a target=\"_blank\" href=https://colab.research.google.com/notebooks/data_table.ipynb>data table notebook</a>'\n",
              "          + ' to learn more about interactive tables.';\n",
              "        element.innerHTML = '';\n",
              "        dataTable['output_type'] = 'display_data';\n",
              "        await google.colab.output.renderOutput(dataTable, element);\n",
              "        const docLink = document.createElement('div');\n",
              "        docLink.innerHTML = docLinkHtml;\n",
              "        element.appendChild(docLink);\n",
              "      }\n",
              "    </script>\n",
              "  </div>\n",
              "\n",
              "\n",
              "<div id=\"df-d22f32b9-069f-49ca-bd19-2a0dbd75f824\">\n",
              "  <button class=\"colab-df-quickchart\" onclick=\"quickchart('df-d22f32b9-069f-49ca-bd19-2a0dbd75f824')\"\n",
              "            title=\"Suggest charts\"\n",
              "            style=\"display:none;\">\n",
              "\n",
              "<svg xmlns=\"http://www.w3.org/2000/svg\" height=\"24px\"viewBox=\"0 0 24 24\"\n",
              "     width=\"24px\">\n",
              "    <g>\n",
              "        <path d=\"M19 3H5c-1.1 0-2 .9-2 2v14c0 1.1.9 2 2 2h14c1.1 0 2-.9 2-2V5c0-1.1-.9-2-2-2zM9 17H7v-7h2v7zm4 0h-2V7h2v10zm4 0h-2v-4h2v4z\"/>\n",
              "    </g>\n",
              "</svg>\n",
              "  </button>\n",
              "\n",
              "<style>\n",
              "  .colab-df-quickchart {\n",
              "      --bg-color: #E8F0FE;\n",
              "      --fill-color: #1967D2;\n",
              "      --hover-bg-color: #E2EBFA;\n",
              "      --hover-fill-color: #174EA6;\n",
              "      --disabled-fill-color: #AAA;\n",
              "      --disabled-bg-color: #DDD;\n",
              "  }\n",
              "\n",
              "  [theme=dark] .colab-df-quickchart {\n",
              "      --bg-color: #3B4455;\n",
              "      --fill-color: #D2E3FC;\n",
              "      --hover-bg-color: #434B5C;\n",
              "      --hover-fill-color: #FFFFFF;\n",
              "      --disabled-bg-color: #3B4455;\n",
              "      --disabled-fill-color: #666;\n",
              "  }\n",
              "\n",
              "  .colab-df-quickchart {\n",
              "    background-color: var(--bg-color);\n",
              "    border: none;\n",
              "    border-radius: 50%;\n",
              "    cursor: pointer;\n",
              "    display: none;\n",
              "    fill: var(--fill-color);\n",
              "    height: 32px;\n",
              "    padding: 0;\n",
              "    width: 32px;\n",
              "  }\n",
              "\n",
              "  .colab-df-quickchart:hover {\n",
              "    background-color: var(--hover-bg-color);\n",
              "    box-shadow: 0 1px 2px rgba(60, 64, 67, 0.3), 0 1px 3px 1px rgba(60, 64, 67, 0.15);\n",
              "    fill: var(--button-hover-fill-color);\n",
              "  }\n",
              "\n",
              "  .colab-df-quickchart-complete:disabled,\n",
              "  .colab-df-quickchart-complete:disabled:hover {\n",
              "    background-color: var(--disabled-bg-color);\n",
              "    fill: var(--disabled-fill-color);\n",
              "    box-shadow: none;\n",
              "  }\n",
              "\n",
              "  .colab-df-spinner {\n",
              "    border: 2px solid var(--fill-color);\n",
              "    border-color: transparent;\n",
              "    border-bottom-color: var(--fill-color);\n",
              "    animation:\n",
              "      spin 1s steps(1) infinite;\n",
              "  }\n",
              "\n",
              "  @keyframes spin {\n",
              "    0% {\n",
              "      border-color: transparent;\n",
              "      border-bottom-color: var(--fill-color);\n",
              "      border-left-color: var(--fill-color);\n",
              "    }\n",
              "    20% {\n",
              "      border-color: transparent;\n",
              "      border-left-color: var(--fill-color);\n",
              "      border-top-color: var(--fill-color);\n",
              "    }\n",
              "    30% {\n",
              "      border-color: transparent;\n",
              "      border-left-color: var(--fill-color);\n",
              "      border-top-color: var(--fill-color);\n",
              "      border-right-color: var(--fill-color);\n",
              "    }\n",
              "    40% {\n",
              "      border-color: transparent;\n",
              "      border-right-color: var(--fill-color);\n",
              "      border-top-color: var(--fill-color);\n",
              "    }\n",
              "    60% {\n",
              "      border-color: transparent;\n",
              "      border-right-color: var(--fill-color);\n",
              "    }\n",
              "    80% {\n",
              "      border-color: transparent;\n",
              "      border-right-color: var(--fill-color);\n",
              "      border-bottom-color: var(--fill-color);\n",
              "    }\n",
              "    90% {\n",
              "      border-color: transparent;\n",
              "      border-bottom-color: var(--fill-color);\n",
              "    }\n",
              "  }\n",
              "</style>\n",
              "\n",
              "  <script>\n",
              "    async function quickchart(key) {\n",
              "      const quickchartButtonEl =\n",
              "        document.querySelector('#' + key + ' button');\n",
              "      quickchartButtonEl.disabled = true;  // To prevent multiple clicks.\n",
              "      quickchartButtonEl.classList.add('colab-df-spinner');\n",
              "      try {\n",
              "        const charts = await google.colab.kernel.invokeFunction(\n",
              "            'suggestCharts', [key], {});\n",
              "      } catch (error) {\n",
              "        console.error('Error during call to suggestCharts:', error);\n",
              "      }\n",
              "      quickchartButtonEl.classList.remove('colab-df-spinner');\n",
              "      quickchartButtonEl.classList.add('colab-df-quickchart-complete');\n",
              "    }\n",
              "    (() => {\n",
              "      let quickchartButtonEl =\n",
              "        document.querySelector('#df-d22f32b9-069f-49ca-bd19-2a0dbd75f824 button');\n",
              "      quickchartButtonEl.style.display =\n",
              "        google.colab.kernel.accessAllowed ? 'block' : 'none';\n",
              "    })();\n",
              "  </script>\n",
              "</div>\n",
              "    </div>\n",
              "  </div>\n"
            ],
            "application/vnd.google.colaboratory.intrinsic+json": {
              "type": "dataframe",
              "variable_name": "df_rheu",
              "summary": "{\n  \"name\": \"df_rheu\",\n  \"rows\": 7455,\n  \"fields\": [\n    {\n      \"column\": \"Chemical Name\",\n      \"properties\": {\n        \"dtype\": \"string\",\n        \"num_unique_values\": 6235,\n        \"samples\": [\n          \"cyclo(Trp-Asp-Pro-Val-Leu)\",\n          \"2-(4-isobutylphenyl)propionic acid 4-(diethoxyphosphoryloxy)butyl ester\",\n          \"zinc nitrate\"\n        ],\n        \"semantic_type\": \"\",\n        \"description\": \"\"\n      }\n    },\n    {\n      \"column\": \"Chemical ID\",\n      \"properties\": {\n        \"dtype\": \"string\",\n        \"num_unique_values\": 6398,\n        \"samples\": [\n          \"D053674\",\n          \"C518978\",\n          \"D016578\"\n        ],\n        \"semantic_type\": \"\",\n        \"description\": \"\"\n      }\n    },\n    {\n      \"column\": \"CAS RN\",\n      \"properties\": {\n        \"dtype\": \"string\",\n        \"num_unique_values\": 3960,\n        \"samples\": [\n          \"29343-52-0\",\n          \"7758-95-4\",\n          \"93-65-2\"\n        ],\n        \"semantic_type\": \"\",\n        \"description\": \"\"\n      }\n    },\n    {\n      \"column\": \"Disease Name\",\n      \"properties\": {\n        \"dtype\": \"category\",\n        \"num_unique_values\": 475,\n        \"samples\": [\n          \"102805-45-8\",\n          \"4'-tetrahydroxystilbene\",\n          \"C546607\"\n        ],\n        \"semantic_type\": \"\",\n        \"description\": \"\"\n      }\n    },\n    {\n      \"column\": \"Disease ID\",\n      \"properties\": {\n        \"dtype\": \"category\",\n        \"num_unique_values\": 221,\n        \"samples\": [\n          \"4'-pentabromobiphenyl\",\n          \"8-dihydro-1\",\n          \"C470794\"\n        ],\n        \"semantic_type\": \"\",\n        \"description\": \"\"\n      }\n    },\n    {\n      \"column\": \"Direct Evidence\",\n      \"properties\": {\n        \"dtype\": \"category\",\n        \"num_unique_values\": 132,\n        \"samples\": [\n          \"4-pyrimidinediamine\",\n          \"D012531\",\n          \"4339-71-3\"\n        ],\n        \"semantic_type\": \"\",\n        \"description\": \"\"\n      }\n    },\n    {\n      \"column\": \"Inference Network\",\n      \"properties\": {\n        \"dtype\": \"category\",\n        \"num_unique_values\": 3274,\n        \"samples\": [\n          \"ABCC3|ADORA2A|AGER|ALOX5|ANKRD55|BCL2A1|BMP6|CCL21|CD40|CD83|CP|CXCL2|CXCL8|CXCR4|DHFR|F2|FASLG|GPRC5A|HLA-DPB1|HLA-DQA2|HOXD10|IGFBP3|IL6|LCN2|LY96|MGARP|MMEL1|MMP10|MMP2|PON1|RASGRP1|SOD2|STAT4|TLR2|TMPO|TNFAIP3|TNFRSF14|TNFSF14\",\n          \"PTPRC\",\n          \"ANKRD55|BMP6|CAT|DNASE1L3|FKBP5|HAPLN1|IFNG|IL1RN|MIF|TNF|TXNIP\"\n        ],\n        \"semantic_type\": \"\",\n        \"description\": \"\"\n      }\n    },\n    {\n      \"column\": \"Inference Score\",\n      \"properties\": {\n        \"dtype\": \"category\",\n        \"num_unique_values\": 2557,\n        \"samples\": [\n          \"2.62\",\n          \"9.42\",\n          \"CXCL8|PTGS1\"\n        ],\n        \"semantic_type\": \"\",\n        \"description\": \"\"\n      }\n    },\n    {\n      \"column\": \"Reference Count\",\n      \"properties\": {\n        \"dtype\": \"category\",\n        \"num_unique_values\": 534,\n        \"samples\": [\n          \"11.52\",\n          \"20.47\",\n          \"18.11\"\n        ],\n        \"semantic_type\": \"\",\n        \"description\": \"\"\n      }\n    },\n    {\n      \"column\": \"Unnamed: 9\",\n      \"properties\": {\n        \"dtype\": \"category\",\n        \"num_unique_values\": 239,\n        \"samples\": [\n          \"ABCB1|ABCC3|CAT|CRP|CXCL8|IL10|IL1B|IL6|MPO|PTGS2|RUNX2|SOD2|TNF\",\n          \"36\",\n          \"10.33\"\n        ],\n        \"semantic_type\": \"\",\n        \"description\": \"\"\n      }\n    },\n    {\n      \"column\": \"Unnamed: 10\",\n      \"properties\": {\n        \"dtype\": \"category\",\n        \"num_unique_values\": 176,\n        \"samples\": [\n          \"24.70\",\n          \"CXCL8|IL1B|TNF\",\n          \"CDK6\"\n        ],\n        \"semantic_type\": \"\",\n        \"description\": \"\"\n      }\n    },\n    {\n      \"column\": \"Unnamed: 11\",\n      \"properties\": {\n        \"dtype\": \"category\",\n        \"num_unique_values\": 103,\n        \"samples\": [\n          \"12\",\n          \"4.87\",\n          \"5.35\"\n        ],\n        \"semantic_type\": \"\",\n        \"description\": \"\"\n      }\n    },\n    {\n      \"column\": \"Unnamed: 12\",\n      \"properties\": {\n        \"dtype\": \"category\",\n        \"num_unique_values\": 57,\n        \"samples\": [\n          \"32\",\n          \"15\",\n          \"4\"\n        ],\n        \"semantic_type\": \"\",\n        \"description\": \"\"\n      }\n    },\n    {\n      \"column\": \"Unnamed: 13\",\n      \"properties\": {\n        \"dtype\": \"category\",\n        \"num_unique_values\": 23,\n        \"samples\": [\n          \"2\",\n          \"10.63\",\n          \"29\"\n        ],\n        \"semantic_type\": \"\",\n        \"description\": \"\"\n      }\n    },\n    {\n      \"column\": \"Unnamed: 14\",\n      \"properties\": {\n        \"dtype\": \"category\",\n        \"num_unique_values\": 10,\n        \"samples\": [\n          \"3.69\",\n          \"8\",\n          \"Arthritis, Rheumatoid\"\n        ],\n        \"semantic_type\": \"\",\n        \"description\": \"\"\n      }\n    },\n    {\n      \"column\": \"Unnamed: 15\",\n      \"properties\": {\n        \"dtype\": \"category\",\n        \"num_unique_values\": 3,\n        \"samples\": [\n          \"7\",\n          \"MESH:D001172\",\n          \"2\"\n        ],\n        \"semantic_type\": \"\",\n        \"description\": \"\"\n      }\n    },\n    {\n      \"column\": \"Unnamed: 16\",\n      \"properties\": {\n        \"dtype\": \"number\",\n        \"std\": null,\n        \"min\": null,\n        \"max\": null,\n        \"num_unique_values\": 0,\n        \"samples\": [],\n        \"semantic_type\": \"\",\n        \"description\": \"\"\n      }\n    },\n    {\n      \"column\": \"Unnamed: 17\",\n      \"properties\": {\n        \"dtype\": \"category\",\n        \"num_unique_values\": 1,\n        \"samples\": [],\n        \"semantic_type\": \"\",\n        \"description\": \"\"\n      }\n    },\n    {\n      \"column\": \"Unnamed: 18\",\n      \"properties\": {\n        \"dtype\": \"number\",\n        \"std\": null,\n        \"min\": 9.24,\n        \"max\": 9.24,\n        \"num_unique_values\": 1,\n        \"samples\": [],\n        \"semantic_type\": \"\",\n        \"description\": \"\"\n      }\n    },\n    {\n      \"column\": \"Unnamed: 19\",\n      \"properties\": {\n        \"dtype\": \"number\",\n        \"std\": null,\n        \"min\": 3.0,\n        \"max\": 3.0,\n        \"num_unique_values\": 1,\n        \"samples\": [],\n        \"semantic_type\": \"\",\n        \"description\": \"\"\n      }\n    }\n  ]\n}"
            }
          },
          "metadata": {},
          "execution_count": 35
        }
      ]
    },
    {
      "cell_type": "code",
      "source": [
        "rheu_list = df_rheu['Chemical Name'].tolist()\n",
        "rheu_list = [item.lower() for item in rheu_list]\n",
        "names_c = [item.lower() for item in names_c]\n",
        "names_z = [item.lower() for item in names_z]\n",
        "names_o = [item.lower() for item in names_o]\n",
        "names_s = [item.lower() for item in names_s]\n",
        "names_p = [item.lower() for item in names_p]\n",
        "names_k = [item.lower() for item in names_k]\n",
        "\n",
        "real_p = []\n",
        "for x in names_p:\n",
        "  if x in rheu_list:\n",
        "    real_p.append(x)\n",
        "\n",
        "real_c = []\n",
        "for x in names_c:\n",
        "  if x in rheu_list:\n",
        "    real_c.append(x)\n",
        "\n",
        "real_z = []\n",
        "for x in names_z:\n",
        "  if x in rheu_list:\n",
        "    real_z.append(x)\n",
        "\n",
        "real_o = []\n",
        "for x in names_o:\n",
        "  if x in rheu_list:\n",
        "    real_o.append(x)\n",
        "\n",
        "real_s = []\n",
        "for x in names_s:\n",
        "  if x in rheu_list:\n",
        "    real_s.append(x)\n",
        "\n",
        "real_k = []\n",
        "for x in names_k:\n",
        "  if x in rheu_list:\n",
        "    real_k.append(x)"
      ],
      "metadata": {
        "id": "Hp7BwzMfTggu"
      },
      "execution_count": null,
      "outputs": []
    },
    {
      "cell_type": "code",
      "source": [
        "print(real_k)"
      ],
      "metadata": {
        "id": "e5-hfxTKV7s6",
        "colab": {
          "base_uri": "https://localhost:8080/"
        },
        "outputId": "78d40046-8756-43ec-f77e-c941122e18a6"
      },
      "execution_count": null,
      "outputs": [
        {
          "output_type": "stream",
          "name": "stdout",
          "text": [
            "['kaempferide', 'kaempferol']\n"
          ]
        }
      ]
    },
    {
      "cell_type": "code",
      "source": [
        "print(real_z)"
      ],
      "metadata": {
        "id": "LMzGqghcV9IZ",
        "colab": {
          "base_uri": "https://localhost:8080/"
        },
        "outputId": "9fa14f9e-2643-4e32-8146-5efccfea2bb3"
      },
      "execution_count": null,
      "outputs": [
        {
          "output_type": "stream",
          "name": "stdout",
          "text": [
            "['alpha-pinene', 'beta-pinene', 'camphene']\n"
          ]
        }
      ]
    },
    {
      "cell_type": "code",
      "source": [
        "print(real_o)"
      ],
      "metadata": {
        "id": "lOpsO6m-V-_r",
        "colab": {
          "base_uri": "https://localhost:8080/"
        },
        "outputId": "11412e32-6b43-4dfa-cec3-d2bb58540ae1"
      },
      "execution_count": null,
      "outputs": [
        {
          "output_type": "stream",
          "name": "stdout",
          "text": [
            "[]\n"
          ]
        }
      ]
    },
    {
      "cell_type": "code",
      "source": [
        "print(real_s)"
      ],
      "metadata": {
        "id": "oA0p-tiaWAZJ",
        "colab": {
          "base_uri": "https://localhost:8080/"
        },
        "outputId": "302052cd-f3b9-4f25-c0b6-f9514eac3073"
      },
      "execution_count": null,
      "outputs": [
        {
          "output_type": "stream",
          "name": "stdout",
          "text": [
            "['p-coumaric acid', 'caffeic acid', 'alpha-pinene', 'limonene', 'naringenin', 'allicin', 'alliin', 'biochanin a', 'formononetin', 'gallic acid', 'pyrogallol', 'syringic acid', 'vanillin', 'ferulic acid', 'resveratrol', 'gamma-terpinene', 'nerolidol', 'ergosterol', 'apigenin', 'kaempferol', 'quercetin', 'citral', 'ajoene', 'allyl alcohol', 'selenomethionine']\n"
          ]
        }
      ]
    },
    {
      "cell_type": "code",
      "source": [
        "print(real_c)"
      ],
      "metadata": {
        "id": "-3Wt_S9CWB-y",
        "colab": {
          "base_uri": "https://localhost:8080/"
        },
        "outputId": "3ea24c0f-82df-4adc-8dd1-6b7ee190f1bd"
      },
      "execution_count": null,
      "outputs": [
        {
          "output_type": "stream",
          "name": "stdout",
          "text": [
            "['tamarixetin', 'syringaresinol', 'quercetin', 'progesterone', 'pentanal', 'oleanolic acid', 'kaempferol', 'gallic acid', 'furfuryl alcohol', 'ferulic acid', 'diethyl phthalate', 'dibutyl phthalate', 'cyanidin', 'cordycepin', 'benzothiazole', 'alliin', 'allicin']\n"
          ]
        }
      ]
    },
    {
      "cell_type": "code",
      "source": [
        "print(real_p)"
      ],
      "metadata": {
        "id": "7Up2MH5jWEaJ",
        "colab": {
          "base_uri": "https://localhost:8080/"
        },
        "outputId": "ba68ee65-6fe6-4285-db3d-63ff4efa3a6d"
      },
      "execution_count": null,
      "outputs": [
        {
          "output_type": "stream",
          "name": "stdout",
          "text": [
            "[]\n"
          ]
        }
      ]
    },
    {
      "cell_type": "code",
      "source": [
        "df_pain = pd.read_csv('/content/drive/MyDrive/Network Pharmacology of Tawar/Pain_Data.csv', delimiter = ';')"
      ],
      "metadata": {
        "id": "43kDAgEzWwyg"
      },
      "execution_count": null,
      "outputs": []
    },
    {
      "cell_type": "code",
      "source": [
        "pain_list = df_pain['Chemical Name'].tolist()\n",
        "pain_list = [item.lower() for item in pain_list]\n",
        "\n",
        "real_p2 = []\n",
        "for x in names_p:\n",
        "  if x in rheu_list:\n",
        "    real_p2.append(x)\n",
        "\n",
        "real_c2 = []\n",
        "for x in names_c:\n",
        "  if x in rheu_list:\n",
        "    real_c2.append(x)\n",
        "\n",
        "real_z2 = []\n",
        "for x in names_z:\n",
        "  if x in rheu_list:\n",
        "    real_z2.append(x)\n",
        "\n",
        "real_o2 = []\n",
        "for x in names_o:\n",
        "  if x in rheu_list:\n",
        "    real_o2.append(x)\n",
        "\n",
        "real_s2 = []\n",
        "for x in names_s:\n",
        "  if x in rheu_list:\n",
        "    real_s2.append(x)\n",
        "\n",
        "real_k2 = []\n",
        "for x in names_k:\n",
        "  if x in rheu_list:\n",
        "    real_k2.append(x)"
      ],
      "metadata": {
        "id": "npnUQY_RXcJI"
      },
      "execution_count": null,
      "outputs": []
    },
    {
      "cell_type": "code",
      "source": [
        "print(real_k2)"
      ],
      "metadata": {
        "id": "5JPdoGI_XuJL",
        "colab": {
          "base_uri": "https://localhost:8080/"
        },
        "outputId": "39466397-af65-486b-9c4b-d304c5a5726e"
      },
      "execution_count": null,
      "outputs": [
        {
          "output_type": "stream",
          "name": "stdout",
          "text": [
            "['kaempferide', 'kaempferol']\n"
          ]
        }
      ]
    },
    {
      "cell_type": "code",
      "source": [
        "print(real_z2)"
      ],
      "metadata": {
        "id": "w6kDfzAvXuJM",
        "colab": {
          "base_uri": "https://localhost:8080/"
        },
        "outputId": "22d1af2c-5741-43f4-d537-47afbdf7f991"
      },
      "execution_count": null,
      "outputs": [
        {
          "output_type": "stream",
          "name": "stdout",
          "text": [
            "['alpha-pinene', 'beta-pinene', 'camphene']\n"
          ]
        }
      ]
    },
    {
      "cell_type": "code",
      "source": [
        "print(real_o2)"
      ],
      "metadata": {
        "id": "WhgB3xh3XuJM",
        "colab": {
          "base_uri": "https://localhost:8080/"
        },
        "outputId": "4f722284-aa0a-4216-8f04-ec8cb7813483"
      },
      "execution_count": null,
      "outputs": [
        {
          "output_type": "stream",
          "name": "stdout",
          "text": [
            "[]\n"
          ]
        }
      ]
    },
    {
      "cell_type": "code",
      "source": [
        "print(real_s2)"
      ],
      "metadata": {
        "id": "liB4hd9wXuJN",
        "colab": {
          "base_uri": "https://localhost:8080/"
        },
        "outputId": "b4984c46-ed0a-4e39-c334-2e11f02771b3"
      },
      "execution_count": null,
      "outputs": [
        {
          "output_type": "stream",
          "name": "stdout",
          "text": [
            "['p-coumaric acid', 'caffeic acid', 'alpha-pinene', 'limonene', 'naringenin', 'allicin', 'alliin', 'biochanin a', 'formononetin', 'gallic acid', 'pyrogallol', 'syringic acid', 'vanillin', 'ferulic acid', 'resveratrol', 'gamma-terpinene', 'nerolidol', 'ergosterol', 'apigenin', 'kaempferol', 'quercetin', 'citral', 'ajoene', 'allyl alcohol', 'selenomethionine']\n"
          ]
        }
      ]
    },
    {
      "cell_type": "code",
      "source": [
        "print(real_c2)"
      ],
      "metadata": {
        "id": "Acym3maCXuJN",
        "colab": {
          "base_uri": "https://localhost:8080/"
        },
        "outputId": "d47b0215-d887-407a-ee6e-dcd1d2ed8cd5"
      },
      "execution_count": null,
      "outputs": [
        {
          "output_type": "stream",
          "name": "stdout",
          "text": [
            "['tamarixetin', 'syringaresinol', 'quercetin', 'progesterone', 'pentanal', 'oleanolic acid', 'kaempferol', 'gallic acid', 'furfuryl alcohol', 'ferulic acid', 'diethyl phthalate', 'dibutyl phthalate', 'cyanidin', 'cordycepin', 'benzothiazole', 'alliin', 'allicin']\n"
          ]
        }
      ]
    },
    {
      "cell_type": "code",
      "source": [
        "print(real_p2)"
      ],
      "metadata": {
        "id": "03SY6t4xXuJO",
        "colab": {
          "base_uri": "https://localhost:8080/"
        },
        "outputId": "18a4d9ab-3630-4845-ac21-ca52419a7b21"
      },
      "execution_count": null,
      "outputs": [
        {
          "output_type": "stream",
          "name": "stdout",
          "text": [
            "[]\n"
          ]
        }
      ]
    },
    {
      "cell_type": "code",
      "source": [
        "df = pd.read_csv()\n"
      ],
      "metadata": {
        "id": "lYxz2uoe7jD-"
      },
      "execution_count": null,
      "outputs": []
    }
  ]
}